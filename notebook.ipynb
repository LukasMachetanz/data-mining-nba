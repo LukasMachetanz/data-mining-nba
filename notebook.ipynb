{
 "cells": [
  {
   "cell_type": "code",
   "execution_count": 1,
   "metadata": {},
   "outputs": [
    {
     "name": "stderr",
     "output_type": "stream",
     "text": [
      "/Users/lukmac/.local/share/virtualenvs/data-mining-nba-jhiA2YFt/lib/python3.7/site-packages/sklearn/externals/six.py:31: FutureWarning: The module is deprecated in version 0.21 and will be removed in version 0.23 since we've dropped support for Python 2.7. Please rely on the official version of six (https://pypi.org/project/six/).\n",
      "  \"(https://pypi.org/project/six/).\", FutureWarning)\n"
     ]
    },
    {
     "ename": "NameError",
     "evalue": "name 'sns' is not defined",
     "output_type": "error",
     "traceback": [
      "\u001b[0;31m---------------------------------------------------------------------------\u001b[0m",
      "\u001b[0;31mNameError\u001b[0m                                 Traceback (most recent call last)",
      "\u001b[0;32m<ipython-input-1-92b11bc29e84>\u001b[0m in \u001b[0;36m<module>\u001b[0;34m\u001b[0m\n\u001b[1;32m     25\u001b[0m \u001b[0;32mfrom\u001b[0m \u001b[0msklearn\u001b[0m\u001b[0;34m.\u001b[0m\u001b[0mmanifold\u001b[0m \u001b[0;32mimport\u001b[0m \u001b[0mTSNE\u001b[0m\u001b[0;34m\u001b[0m\u001b[0;34m\u001b[0m\u001b[0m\n\u001b[1;32m     26\u001b[0m \u001b[0;32mimport\u001b[0m \u001b[0mseaborn\u001b[0m \u001b[0;32mas\u001b[0m \u001b[0msb\u001b[0m\u001b[0;34m\u001b[0m\u001b[0;34m\u001b[0m\u001b[0m\n\u001b[0;32m---> 27\u001b[0;31m \u001b[0msns\u001b[0m\u001b[0;34m.\u001b[0m\u001b[0mset\u001b[0m\u001b[0;34m(\u001b[0m\u001b[0mrc\u001b[0m\u001b[0;34m=\u001b[0m\u001b[0;34m{\u001b[0m\u001b[0;34m'figure.figsize'\u001b[0m\u001b[0;34m:\u001b[0m\u001b[0;34m(\u001b[0m\u001b[0;36m11.7\u001b[0m\u001b[0;34m,\u001b[0m\u001b[0;36m8.27\u001b[0m\u001b[0;34m)\u001b[0m\u001b[0;34m}\u001b[0m\u001b[0;34m)\u001b[0m\u001b[0;34m\u001b[0m\u001b[0;34m\u001b[0m\u001b[0m\n\u001b[0m\u001b[1;32m     28\u001b[0m \u001b[0mpalette\u001b[0m \u001b[0;34m=\u001b[0m \u001b[0msns\u001b[0m\u001b[0;34m.\u001b[0m\u001b[0mcolor_palette\u001b[0m\u001b[0;34m(\u001b[0m\u001b[0;34m\"bright\"\u001b[0m\u001b[0;34m,\u001b[0m \u001b[0;36m10\u001b[0m\u001b[0;34m)\u001b[0m\u001b[0;34m\u001b[0m\u001b[0;34m\u001b[0m\u001b[0m\n",
      "\u001b[0;31mNameError\u001b[0m: name 'sns' is not defined"
     ]
    }
   ],
   "source": [
    "import pandas as pd\n",
    "import pandas_profiling\n",
    "\n",
    "import numpy as np\n",
    "\n",
    "import matplotlib.pyplot as plt\n",
    "\n",
    "from sklearn.linear_model import LinearRegression\n",
    "from sklearn.metrics import explained_variance_score, mean_squared_error\n",
    "from sklearn.preprocessing import StandardScaler\n",
    "from sklearn.decomposition import PCA\n",
    "from sklearn.neural_network import MLPClassifier\n",
    "from sklearn.metrics import classification_report, confusion_matrix\n",
    "from sklearn.neighbors import KNeighborsClassifier\n",
    "from sklearn.tree import DecisionTreeClassifier\n",
    "from sklearn.model_selection import GridSearchCV, StratifiedKFold, train_test_split\n",
    "from sklearn.externals.six import StringIO\n",
    "from sklearn.tree import export_graphviz\n",
    "from sklearn.cluster import KMeans, SpectralClustering\n",
    "\n",
    "import pydot\n",
    "from IPython.display import Image\n",
    "\n",
    "import time\n",
    "from sklearn.manifold import TSNE\n",
    "import seaborn as sb\n",
    "sns.set(rc={'figure.figsize':(11.7,8.27)})\n",
    "palette = sns.color_palette(\"bright\", 10)"
   ]
  },
  {
   "cell_type": "markdown",
   "metadata": {},
   "source": [
    "# Import"
   ]
  },
  {
   "cell_type": "code",
   "execution_count": 2,
   "metadata": {},
   "outputs": [],
   "source": [
    "players_df = pd.read_csv('data/players.csv')\n",
    "salaries_df = pd.read_csv('data/salaries.csv')"
   ]
  },
  {
   "cell_type": "markdown",
   "metadata": {},
   "source": [
    "# Overview - Preprocessing"
   ]
  },
  {
   "cell_type": "markdown",
   "metadata": {},
   "source": [
    "## Data - Players"
   ]
  },
  {
   "cell_type": "code",
   "execution_count": 3,
   "metadata": {},
   "outputs": [
    {
     "name": "stdout",
     "output_type": "stream",
     "text": [
      "<class 'pandas.core.frame.DataFrame'>\n",
      "RangeIndex: 4685 entries, 0 to 4684\n",
      "Data columns (total 24 columns):\n",
      "_id            4685 non-null object\n",
      "birthDate      4657 non-null object\n",
      "birthPlace     4185 non-null object\n",
      "career_AST     4685 non-null float64\n",
      "career_FG%     4685 non-null object\n",
      "career_FG3%    3557 non-null object\n",
      "career_FT%     4685 non-null object\n",
      "career_G       4685 non-null int64\n",
      "career_PER     4685 non-null object\n",
      "career_PTS     4685 non-null float64\n",
      "career_TRB     4685 non-null object\n",
      "career_WS      4685 non-null object\n",
      "career_eFG%    3557 non-null object\n",
      "college        4372 non-null object\n",
      "draft_pick     3369 non-null object\n",
      "draft_round    3507 non-null object\n",
      "draft_team     3507 non-null object\n",
      "draft_year     3306 non-null object\n",
      "height         4685 non-null object\n",
      "highSchool     4025 non-null object\n",
      "name           4685 non-null object\n",
      "position       4685 non-null object\n",
      "shoots         4684 non-null object\n",
      "weight         4680 non-null object\n",
      "dtypes: float64(2), int64(1), object(21)\n",
      "memory usage: 878.6+ KB\n"
     ]
    }
   ],
   "source": [
    "players_df.info()"
   ]
  },
  {
   "cell_type": "code",
   "execution_count": 4,
   "metadata": {},
   "outputs": [
    {
     "data": {
      "text/html": [
       "<div>\n",
       "<style scoped>\n",
       "    .dataframe tbody tr th:only-of-type {\n",
       "        vertical-align: middle;\n",
       "    }\n",
       "\n",
       "    .dataframe tbody tr th {\n",
       "        vertical-align: top;\n",
       "    }\n",
       "\n",
       "    .dataframe thead th {\n",
       "        text-align: right;\n",
       "    }\n",
       "</style>\n",
       "<table border=\"1\" class=\"dataframe\">\n",
       "  <thead>\n",
       "    <tr style=\"text-align: right;\">\n",
       "      <th></th>\n",
       "      <th>_id</th>\n",
       "      <th>birthDate</th>\n",
       "      <th>birthPlace</th>\n",
       "      <th>career_AST</th>\n",
       "      <th>career_FG%</th>\n",
       "      <th>career_FG3%</th>\n",
       "      <th>career_FT%</th>\n",
       "      <th>career_G</th>\n",
       "      <th>career_PER</th>\n",
       "      <th>career_PTS</th>\n",
       "      <th>...</th>\n",
       "      <th>draft_pick</th>\n",
       "      <th>draft_round</th>\n",
       "      <th>draft_team</th>\n",
       "      <th>draft_year</th>\n",
       "      <th>height</th>\n",
       "      <th>highSchool</th>\n",
       "      <th>name</th>\n",
       "      <th>position</th>\n",
       "      <th>shoots</th>\n",
       "      <th>weight</th>\n",
       "    </tr>\n",
       "  </thead>\n",
       "  <tbody>\n",
       "    <tr>\n",
       "      <th>0</th>\n",
       "      <td>abdelal01</td>\n",
       "      <td>June 24, 1968</td>\n",
       "      <td>Cairo, Egypt</td>\n",
       "      <td>0.3</td>\n",
       "      <td>50.2</td>\n",
       "      <td>0.0</td>\n",
       "      <td>70.1</td>\n",
       "      <td>256</td>\n",
       "      <td>13.0</td>\n",
       "      <td>5.7</td>\n",
       "      <td>...</td>\n",
       "      <td>25th overall</td>\n",
       "      <td>1st round</td>\n",
       "      <td>Portland Trail Blazers</td>\n",
       "      <td>1990</td>\n",
       "      <td>6-10</td>\n",
       "      <td>Bloomfield in Bloomfield, New Jersey</td>\n",
       "      <td>Alaa Abdelnaby</td>\n",
       "      <td>Power Forward</td>\n",
       "      <td>Right</td>\n",
       "      <td>240lb</td>\n",
       "    </tr>\n",
       "    <tr>\n",
       "      <th>1</th>\n",
       "      <td>abdulza01</td>\n",
       "      <td>April 7, 1946</td>\n",
       "      <td>Brooklyn, New York</td>\n",
       "      <td>1.2</td>\n",
       "      <td>42.8</td>\n",
       "      <td>NaN</td>\n",
       "      <td>72.8</td>\n",
       "      <td>505</td>\n",
       "      <td>15.1</td>\n",
       "      <td>9.0</td>\n",
       "      <td>...</td>\n",
       "      <td>5th overall</td>\n",
       "      <td>1st round</td>\n",
       "      <td>Cincinnati Royals</td>\n",
       "      <td>1968</td>\n",
       "      <td>6-9</td>\n",
       "      <td>John Jay in Brooklyn, New York</td>\n",
       "      <td>Zaid Abdul-Aziz</td>\n",
       "      <td>Power Forward and Center</td>\n",
       "      <td>Right</td>\n",
       "      <td>235lb</td>\n",
       "    </tr>\n",
       "    <tr>\n",
       "      <th>2</th>\n",
       "      <td>abdulka01</td>\n",
       "      <td>April 16, 1947</td>\n",
       "      <td>New York, New York</td>\n",
       "      <td>3.6</td>\n",
       "      <td>55.9</td>\n",
       "      <td>5.6</td>\n",
       "      <td>72.1</td>\n",
       "      <td>1560</td>\n",
       "      <td>24.6</td>\n",
       "      <td>24.6</td>\n",
       "      <td>...</td>\n",
       "      <td>1st overall</td>\n",
       "      <td>1st round</td>\n",
       "      <td>Milwaukee Bucks</td>\n",
       "      <td>1969</td>\n",
       "      <td>7-2</td>\n",
       "      <td>Power Memorial in New York, New York</td>\n",
       "      <td>Kareem Abdul-Jabbar</td>\n",
       "      <td>Center</td>\n",
       "      <td>Right</td>\n",
       "      <td>225lb</td>\n",
       "    </tr>\n",
       "    <tr>\n",
       "      <th>3</th>\n",
       "      <td>abdulma02</td>\n",
       "      <td>March 9, 1969</td>\n",
       "      <td>Gulfport, Mississippi</td>\n",
       "      <td>3.5</td>\n",
       "      <td>44.2</td>\n",
       "      <td>35.4</td>\n",
       "      <td>90.5</td>\n",
       "      <td>586</td>\n",
       "      <td>15.4</td>\n",
       "      <td>14.6</td>\n",
       "      <td>...</td>\n",
       "      <td>3rd overall</td>\n",
       "      <td>1st round</td>\n",
       "      <td>Denver Nuggets</td>\n",
       "      <td>1990</td>\n",
       "      <td>6-1</td>\n",
       "      <td>Gulfport in Gulfport, Mississippi</td>\n",
       "      <td>Mahmoud Abdul-Rauf</td>\n",
       "      <td>Point Guard</td>\n",
       "      <td>Right</td>\n",
       "      <td>162lb</td>\n",
       "    </tr>\n",
       "    <tr>\n",
       "      <th>4</th>\n",
       "      <td>abdulta01</td>\n",
       "      <td>November 3, 1974</td>\n",
       "      <td>Maisons Alfort, France</td>\n",
       "      <td>1.1</td>\n",
       "      <td>41.7</td>\n",
       "      <td>23.7</td>\n",
       "      <td>70.3</td>\n",
       "      <td>236</td>\n",
       "      <td>11.4</td>\n",
       "      <td>7.8</td>\n",
       "      <td>...</td>\n",
       "      <td>11th overall</td>\n",
       "      <td>1st round</td>\n",
       "      <td>Sacramento Kings</td>\n",
       "      <td>1997</td>\n",
       "      <td>6-6</td>\n",
       "      <td>Lycee Aristide Briand in Evreux, France</td>\n",
       "      <td>Tariq Abdul-Wahad</td>\n",
       "      <td>Shooting Guard</td>\n",
       "      <td>Right</td>\n",
       "      <td>223lb</td>\n",
       "    </tr>\n",
       "  </tbody>\n",
       "</table>\n",
       "<p>5 rows × 24 columns</p>\n",
       "</div>"
      ],
      "text/plain": [
       "         _id         birthDate              birthPlace  career_AST career_FG%  \\\n",
       "0  abdelal01     June 24, 1968            Cairo, Egypt         0.3       50.2   \n",
       "1  abdulza01     April 7, 1946      Brooklyn, New York         1.2       42.8   \n",
       "2  abdulka01    April 16, 1947      New York, New York         3.6       55.9   \n",
       "3  abdulma02     March 9, 1969   Gulfport, Mississippi         3.5       44.2   \n",
       "4  abdulta01  November 3, 1974  Maisons Alfort, France         1.1       41.7   \n",
       "\n",
       "  career_FG3% career_FT%  career_G career_PER  career_PTS  ...    draft_pick  \\\n",
       "0         0.0       70.1       256       13.0         5.7  ...  25th overall   \n",
       "1         NaN       72.8       505       15.1         9.0  ...   5th overall   \n",
       "2         5.6       72.1      1560       24.6        24.6  ...   1st overall   \n",
       "3        35.4       90.5       586       15.4        14.6  ...   3rd overall   \n",
       "4        23.7       70.3       236       11.4         7.8  ...  11th overall   \n",
       "\n",
       "  draft_round              draft_team draft_year height  \\\n",
       "0   1st round  Portland Trail Blazers       1990   6-10   \n",
       "1   1st round       Cincinnati Royals       1968    6-9   \n",
       "2   1st round         Milwaukee Bucks       1969    7-2   \n",
       "3   1st round          Denver Nuggets       1990    6-1   \n",
       "4   1st round        Sacramento Kings       1997    6-6   \n",
       "\n",
       "                                highSchool                 name  \\\n",
       "0     Bloomfield in Bloomfield, New Jersey       Alaa Abdelnaby   \n",
       "1           John Jay in Brooklyn, New York      Zaid Abdul-Aziz   \n",
       "2     Power Memorial in New York, New York  Kareem Abdul-Jabbar   \n",
       "3        Gulfport in Gulfport, Mississippi   Mahmoud Abdul-Rauf   \n",
       "4  Lycee Aristide Briand in Evreux, France    Tariq Abdul-Wahad   \n",
       "\n",
       "                   position shoots weight  \n",
       "0             Power Forward  Right  240lb  \n",
       "1  Power Forward and Center  Right  235lb  \n",
       "2                    Center  Right  225lb  \n",
       "3               Point Guard  Right  162lb  \n",
       "4            Shooting Guard  Right  223lb  \n",
       "\n",
       "[5 rows x 24 columns]"
      ]
     },
     "execution_count": 4,
     "metadata": {},
     "output_type": "execute_result"
    }
   ],
   "source": [
    "players_df.head()"
   ]
  },
  {
   "cell_type": "code",
   "execution_count": 5,
   "metadata": {},
   "outputs": [
    {
     "data": {
      "text/html": [
       "<div>\n",
       "<style scoped>\n",
       "    .dataframe tbody tr th:only-of-type {\n",
       "        vertical-align: middle;\n",
       "    }\n",
       "\n",
       "    .dataframe tbody tr th {\n",
       "        vertical-align: top;\n",
       "    }\n",
       "\n",
       "    .dataframe thead th {\n",
       "        text-align: right;\n",
       "    }\n",
       "</style>\n",
       "<table border=\"1\" class=\"dataframe\">\n",
       "  <thead>\n",
       "    <tr style=\"text-align: right;\">\n",
       "      <th></th>\n",
       "      <th>_id</th>\n",
       "      <th>birthDate</th>\n",
       "      <th>birthPlace</th>\n",
       "      <th>career_AST</th>\n",
       "      <th>career_FG%</th>\n",
       "      <th>career_FG3%</th>\n",
       "      <th>career_FT%</th>\n",
       "      <th>career_G</th>\n",
       "      <th>career_PER</th>\n",
       "      <th>career_PTS</th>\n",
       "      <th>...</th>\n",
       "      <th>draft_pick</th>\n",
       "      <th>draft_round</th>\n",
       "      <th>draft_team</th>\n",
       "      <th>draft_year</th>\n",
       "      <th>height</th>\n",
       "      <th>highSchool</th>\n",
       "      <th>name</th>\n",
       "      <th>position</th>\n",
       "      <th>shoots</th>\n",
       "      <th>weight</th>\n",
       "    </tr>\n",
       "  </thead>\n",
       "  <tbody>\n",
       "    <tr>\n",
       "      <th>4680</th>\n",
       "      <td>zizican01</td>\n",
       "      <td>January 4, 1997</td>\n",
       "      <td>Split, Croatia</td>\n",
       "      <td>0.6</td>\n",
       "      <td>58.3</td>\n",
       "      <td>-</td>\n",
       "      <td>70.8</td>\n",
       "      <td>91</td>\n",
       "      <td>17.5</td>\n",
       "      <td>6.4</td>\n",
       "      <td>...</td>\n",
       "      <td>23rd overall</td>\n",
       "      <td>1st round</td>\n",
       "      <td>Boston Celtics</td>\n",
       "      <td>2016</td>\n",
       "      <td>6-11</td>\n",
       "      <td>NaN</td>\n",
       "      <td>Ante Zizic</td>\n",
       "      <td>Center</td>\n",
       "      <td>Right</td>\n",
       "      <td>254lb</td>\n",
       "    </tr>\n",
       "    <tr>\n",
       "      <th>4681</th>\n",
       "      <td>zoetji01</td>\n",
       "      <td>December 20, 1953</td>\n",
       "      <td>Uxbridge, Canada</td>\n",
       "      <td>0.1</td>\n",
       "      <td>20.0</td>\n",
       "      <td>-</td>\n",
       "      <td>-</td>\n",
       "      <td>7</td>\n",
       "      <td>-0.8</td>\n",
       "      <td>0.3</td>\n",
       "      <td>...</td>\n",
       "      <td>NaN</td>\n",
       "      <td>NaN</td>\n",
       "      <td>NaN</td>\n",
       "      <td>NaN</td>\n",
       "      <td>7-1</td>\n",
       "      <td>Port Perry in Port Perry, Canada</td>\n",
       "      <td>Jim Zoet</td>\n",
       "      <td>Center</td>\n",
       "      <td>Right</td>\n",
       "      <td>240lb</td>\n",
       "    </tr>\n",
       "    <tr>\n",
       "      <th>4682</th>\n",
       "      <td>zopfbi01</td>\n",
       "      <td>June 7, 1948</td>\n",
       "      <td>NaN</td>\n",
       "      <td>1.4</td>\n",
       "      <td>36.3</td>\n",
       "      <td>NaN</td>\n",
       "      <td>55.6</td>\n",
       "      <td>53</td>\n",
       "      <td>9.6</td>\n",
       "      <td>2.2</td>\n",
       "      <td>...</td>\n",
       "      <td>33rd overall</td>\n",
       "      <td>2nd round</td>\n",
       "      <td>Milwaukee Bucks</td>\n",
       "      <td>1970</td>\n",
       "      <td>6-1</td>\n",
       "      <td>Monaca in Monaca, Pennsylvania</td>\n",
       "      <td>Bill Zopf</td>\n",
       "      <td>Point Guard</td>\n",
       "      <td>Right</td>\n",
       "      <td>170lb</td>\n",
       "    </tr>\n",
       "    <tr>\n",
       "      <th>4683</th>\n",
       "      <td>zubaciv01</td>\n",
       "      <td>March 18, 1997</td>\n",
       "      <td>Mostar, Bosnia and Herzegovina</td>\n",
       "      <td>0.8</td>\n",
       "      <td>54.0</td>\n",
       "      <td>0.0</td>\n",
       "      <td>76.1</td>\n",
       "      <td>140</td>\n",
       "      <td>17.6</td>\n",
       "      <td>6.9</td>\n",
       "      <td>...</td>\n",
       "      <td>32nd overall</td>\n",
       "      <td>2nd round</td>\n",
       "      <td>Los Angeles Lakers</td>\n",
       "      <td>2016</td>\n",
       "      <td>7-1</td>\n",
       "      <td>NaN</td>\n",
       "      <td>Ivica Zubac</td>\n",
       "      <td>Center</td>\n",
       "      <td>Right</td>\n",
       "      <td>240lb</td>\n",
       "    </tr>\n",
       "    <tr>\n",
       "      <th>4684</th>\n",
       "      <td>zunicma01</td>\n",
       "      <td>December 19, 1919</td>\n",
       "      <td>Renton, Pennsylvania</td>\n",
       "      <td>0.9</td>\n",
       "      <td>30.3</td>\n",
       "      <td>NaN</td>\n",
       "      <td>70.6</td>\n",
       "      <td>56</td>\n",
       "      <td>-</td>\n",
       "      <td>4.9</td>\n",
       "      <td>...</td>\n",
       "      <td>NaN</td>\n",
       "      <td>1947 BAA Draf</td>\n",
       "      <td>Washington Capitols</td>\n",
       "      <td>NaN</td>\n",
       "      <td>6-3</td>\n",
       "      <td>NaN</td>\n",
       "      <td>Matt Zunic</td>\n",
       "      <td>Guard/Forward</td>\n",
       "      <td>Right</td>\n",
       "      <td>195lb</td>\n",
       "    </tr>\n",
       "  </tbody>\n",
       "</table>\n",
       "<p>5 rows × 24 columns</p>\n",
       "</div>"
      ],
      "text/plain": [
       "            _id          birthDate                      birthPlace  \\\n",
       "4680  zizican01    January 4, 1997                  Split, Croatia   \n",
       "4681   zoetji01  December 20, 1953                Uxbridge, Canada   \n",
       "4682   zopfbi01       June 7, 1948                             NaN   \n",
       "4683  zubaciv01     March 18, 1997  Mostar, Bosnia and Herzegovina   \n",
       "4684  zunicma01  December 19, 1919            Renton, Pennsylvania   \n",
       "\n",
       "      career_AST career_FG% career_FG3% career_FT%  career_G career_PER  \\\n",
       "4680         0.6       58.3           -       70.8        91       17.5   \n",
       "4681         0.1       20.0           -          -         7       -0.8   \n",
       "4682         1.4       36.3         NaN       55.6        53        9.6   \n",
       "4683         0.8       54.0         0.0       76.1       140       17.6   \n",
       "4684         0.9       30.3         NaN       70.6        56          -   \n",
       "\n",
       "      career_PTS  ...    draft_pick    draft_round           draft_team  \\\n",
       "4680         6.4  ...  23rd overall      1st round       Boston Celtics   \n",
       "4681         0.3  ...           NaN            NaN                  NaN   \n",
       "4682         2.2  ...  33rd overall      2nd round      Milwaukee Bucks   \n",
       "4683         6.9  ...  32nd overall      2nd round   Los Angeles Lakers   \n",
       "4684         4.9  ...           NaN  1947 BAA Draf  Washington Capitols   \n",
       "\n",
       "     draft_year height                        highSchool         name  \\\n",
       "4680       2016   6-11                               NaN   Ante Zizic   \n",
       "4681        NaN    7-1  Port Perry in Port Perry, Canada     Jim Zoet   \n",
       "4682       1970    6-1    Monaca in Monaca, Pennsylvania    Bill Zopf   \n",
       "4683       2016    7-1                               NaN  Ivica Zubac   \n",
       "4684        NaN    6-3                               NaN   Matt Zunic   \n",
       "\n",
       "           position shoots weight  \n",
       "4680         Center  Right  254lb  \n",
       "4681         Center  Right  240lb  \n",
       "4682    Point Guard  Right  170lb  \n",
       "4683         Center  Right  240lb  \n",
       "4684  Guard/Forward  Right  195lb  \n",
       "\n",
       "[5 rows x 24 columns]"
      ]
     },
     "execution_count": 5,
     "metadata": {},
     "output_type": "execute_result"
    }
   ],
   "source": [
    "players_df.tail()"
   ]
  },
  {
   "cell_type": "markdown",
   "metadata": {},
   "source": [
    "## Data - Salaries"
   ]
  },
  {
   "cell_type": "code",
   "execution_count": 6,
   "metadata": {},
   "outputs": [
    {
     "name": "stdout",
     "output_type": "stream",
     "text": [
      "<class 'pandas.core.frame.DataFrame'>\n",
      "RangeIndex: 14163 entries, 0 to 14162\n",
      "Data columns (total 7 columns):\n",
      "league          14163 non-null object\n",
      "player_id       14163 non-null object\n",
      "salary          14163 non-null int64\n",
      "season          14163 non-null object\n",
      "season_end      14163 non-null int64\n",
      "season_start    14163 non-null int64\n",
      "team            14159 non-null object\n",
      "dtypes: int64(3), object(4)\n",
      "memory usage: 774.7+ KB\n"
     ]
    }
   ],
   "source": [
    "salaries_df.info()"
   ]
  },
  {
   "cell_type": "code",
   "execution_count": 7,
   "metadata": {},
   "outputs": [
    {
     "data": {
      "text/html": [
       "<div>\n",
       "<style scoped>\n",
       "    .dataframe tbody tr th:only-of-type {\n",
       "        vertical-align: middle;\n",
       "    }\n",
       "\n",
       "    .dataframe tbody tr th {\n",
       "        vertical-align: top;\n",
       "    }\n",
       "\n",
       "    .dataframe thead th {\n",
       "        text-align: right;\n",
       "    }\n",
       "</style>\n",
       "<table border=\"1\" class=\"dataframe\">\n",
       "  <thead>\n",
       "    <tr style=\"text-align: right;\">\n",
       "      <th></th>\n",
       "      <th>league</th>\n",
       "      <th>player_id</th>\n",
       "      <th>salary</th>\n",
       "      <th>season</th>\n",
       "      <th>season_end</th>\n",
       "      <th>season_start</th>\n",
       "      <th>team</th>\n",
       "    </tr>\n",
       "  </thead>\n",
       "  <tbody>\n",
       "    <tr>\n",
       "      <th>0</th>\n",
       "      <td>NBA</td>\n",
       "      <td>abdelal01</td>\n",
       "      <td>395000</td>\n",
       "      <td>1990-91</td>\n",
       "      <td>1991</td>\n",
       "      <td>1990</td>\n",
       "      <td>Portland Trail Blazers</td>\n",
       "    </tr>\n",
       "    <tr>\n",
       "      <th>1</th>\n",
       "      <td>NBA</td>\n",
       "      <td>abdelal01</td>\n",
       "      <td>494000</td>\n",
       "      <td>1991-92</td>\n",
       "      <td>1992</td>\n",
       "      <td>1991</td>\n",
       "      <td>Portland Trail Blazers</td>\n",
       "    </tr>\n",
       "    <tr>\n",
       "      <th>2</th>\n",
       "      <td>NBA</td>\n",
       "      <td>abdelal01</td>\n",
       "      <td>500000</td>\n",
       "      <td>1992-93</td>\n",
       "      <td>1993</td>\n",
       "      <td>1992</td>\n",
       "      <td>Boston Celtics</td>\n",
       "    </tr>\n",
       "    <tr>\n",
       "      <th>3</th>\n",
       "      <td>NBA</td>\n",
       "      <td>abdelal01</td>\n",
       "      <td>805000</td>\n",
       "      <td>1993-94</td>\n",
       "      <td>1994</td>\n",
       "      <td>1993</td>\n",
       "      <td>Boston Celtics</td>\n",
       "    </tr>\n",
       "    <tr>\n",
       "      <th>4</th>\n",
       "      <td>NBA</td>\n",
       "      <td>abdelal01</td>\n",
       "      <td>650000</td>\n",
       "      <td>1994-95</td>\n",
       "      <td>1995</td>\n",
       "      <td>1994</td>\n",
       "      <td>Sacramento Kings</td>\n",
       "    </tr>\n",
       "  </tbody>\n",
       "</table>\n",
       "</div>"
      ],
      "text/plain": [
       "  league  player_id  salary   season  season_end  season_start  \\\n",
       "0    NBA  abdelal01  395000  1990-91        1991          1990   \n",
       "1    NBA  abdelal01  494000  1991-92        1992          1991   \n",
       "2    NBA  abdelal01  500000  1992-93        1993          1992   \n",
       "3    NBA  abdelal01  805000  1993-94        1994          1993   \n",
       "4    NBA  abdelal01  650000  1994-95        1995          1994   \n",
       "\n",
       "                     team  \n",
       "0  Portland Trail Blazers  \n",
       "1  Portland Trail Blazers  \n",
       "2          Boston Celtics  \n",
       "3          Boston Celtics  \n",
       "4        Sacramento Kings  "
      ]
     },
     "execution_count": 7,
     "metadata": {},
     "output_type": "execute_result"
    }
   ],
   "source": [
    "salaries_df.head()"
   ]
  },
  {
   "cell_type": "code",
   "execution_count": 8,
   "metadata": {},
   "outputs": [
    {
     "data": {
      "text/html": [
       "<div>\n",
       "<style scoped>\n",
       "    .dataframe tbody tr th:only-of-type {\n",
       "        vertical-align: middle;\n",
       "    }\n",
       "\n",
       "    .dataframe tbody tr th {\n",
       "        vertical-align: top;\n",
       "    }\n",
       "\n",
       "    .dataframe thead th {\n",
       "        text-align: right;\n",
       "    }\n",
       "</style>\n",
       "<table border=\"1\" class=\"dataframe\">\n",
       "  <thead>\n",
       "    <tr style=\"text-align: right;\">\n",
       "      <th></th>\n",
       "      <th>league</th>\n",
       "      <th>player_id</th>\n",
       "      <th>salary</th>\n",
       "      <th>season</th>\n",
       "      <th>season_end</th>\n",
       "      <th>season_start</th>\n",
       "      <th>team</th>\n",
       "    </tr>\n",
       "  </thead>\n",
       "  <tbody>\n",
       "    <tr>\n",
       "      <th>14158</th>\n",
       "      <td>NBA</td>\n",
       "      <td>zipsepa01</td>\n",
       "      <td>750000</td>\n",
       "      <td>2016-17</td>\n",
       "      <td>2017</td>\n",
       "      <td>2016</td>\n",
       "      <td>Chicago Bulls</td>\n",
       "    </tr>\n",
       "    <tr>\n",
       "      <th>14159</th>\n",
       "      <td>NBA</td>\n",
       "      <td>zipsepa01</td>\n",
       "      <td>1312611</td>\n",
       "      <td>2017-18</td>\n",
       "      <td>2018</td>\n",
       "      <td>2017</td>\n",
       "      <td>Chicago Bulls</td>\n",
       "    </tr>\n",
       "    <tr>\n",
       "      <th>14160</th>\n",
       "      <td>NBA</td>\n",
       "      <td>zizican01</td>\n",
       "      <td>1645200</td>\n",
       "      <td>2017-18</td>\n",
       "      <td>2018</td>\n",
       "      <td>2017</td>\n",
       "      <td>Cleveland Cavaliers</td>\n",
       "    </tr>\n",
       "    <tr>\n",
       "      <th>14161</th>\n",
       "      <td>NBA</td>\n",
       "      <td>zubaciv01</td>\n",
       "      <td>1034956</td>\n",
       "      <td>2016-17</td>\n",
       "      <td>2017</td>\n",
       "      <td>2016</td>\n",
       "      <td>Los Angeles Lakers</td>\n",
       "    </tr>\n",
       "    <tr>\n",
       "      <th>14162</th>\n",
       "      <td>NBA</td>\n",
       "      <td>zubaciv01</td>\n",
       "      <td>1312611</td>\n",
       "      <td>2017-18</td>\n",
       "      <td>2018</td>\n",
       "      <td>2017</td>\n",
       "      <td>Los Angeles Lakers</td>\n",
       "    </tr>\n",
       "  </tbody>\n",
       "</table>\n",
       "</div>"
      ],
      "text/plain": [
       "      league  player_id   salary   season  season_end  season_start  \\\n",
       "14158    NBA  zipsepa01   750000  2016-17        2017          2016   \n",
       "14159    NBA  zipsepa01  1312611  2017-18        2018          2017   \n",
       "14160    NBA  zizican01  1645200  2017-18        2018          2017   \n",
       "14161    NBA  zubaciv01  1034956  2016-17        2017          2016   \n",
       "14162    NBA  zubaciv01  1312611  2017-18        2018          2017   \n",
       "\n",
       "                      team  \n",
       "14158        Chicago Bulls  \n",
       "14159        Chicago Bulls  \n",
       "14160  Cleveland Cavaliers  \n",
       "14161   Los Angeles Lakers  \n",
       "14162   Los Angeles Lakers  "
      ]
     },
     "execution_count": 8,
     "metadata": {},
     "output_type": "execute_result"
    }
   ],
   "source": [
    "salaries_df.tail()"
   ]
  },
  {
   "cell_type": "code",
   "execution_count": 9,
   "metadata": {},
   "outputs": [
    {
     "data": {
      "text/html": [
       "<div>\n",
       "<style scoped>\n",
       "    .dataframe tbody tr th:only-of-type {\n",
       "        vertical-align: middle;\n",
       "    }\n",
       "\n",
       "    .dataframe tbody tr th {\n",
       "        vertical-align: top;\n",
       "    }\n",
       "\n",
       "    .dataframe thead th {\n",
       "        text-align: right;\n",
       "    }\n",
       "</style>\n",
       "<table border=\"1\" class=\"dataframe\">\n",
       "  <thead>\n",
       "    <tr style=\"text-align: right;\">\n",
       "      <th></th>\n",
       "      <th>league</th>\n",
       "      <th>player_id</th>\n",
       "      <th>salary</th>\n",
       "      <th>season</th>\n",
       "      <th>season_end</th>\n",
       "      <th>season_start</th>\n",
       "      <th>team</th>\n",
       "    </tr>\n",
       "  </thead>\n",
       "  <tbody>\n",
       "    <tr>\n",
       "      <th>12871</th>\n",
       "      <td>NBA</td>\n",
       "      <td>vaughja01</td>\n",
       "      <td>1262275</td>\n",
       "      <td>2008-09</td>\n",
       "      <td>2009</td>\n",
       "      <td>2008</td>\n",
       "      <td>San Antonio Spurs</td>\n",
       "    </tr>\n",
       "    <tr>\n",
       "      <th>10280</th>\n",
       "      <td>NBA</td>\n",
       "      <td>powele01</td>\n",
       "      <td>797581</td>\n",
       "      <td>2008-09</td>\n",
       "      <td>2009</td>\n",
       "      <td>2008</td>\n",
       "      <td>Boston Celtics</td>\n",
       "    </tr>\n",
       "    <tr>\n",
       "      <th>6024</th>\n",
       "      <td>NBA</td>\n",
       "      <td>huntest01</td>\n",
       "      <td>3024000</td>\n",
       "      <td>2006-07</td>\n",
       "      <td>2007</td>\n",
       "      <td>2006</td>\n",
       "      <td>Philadelphia 76ers</td>\n",
       "    </tr>\n",
       "    <tr>\n",
       "      <th>10227</th>\n",
       "      <td>NBA</td>\n",
       "      <td>porteot01</td>\n",
       "      <td>5893981</td>\n",
       "      <td>2016-17</td>\n",
       "      <td>2017</td>\n",
       "      <td>2016</td>\n",
       "      <td>Washington Wizards</td>\n",
       "    </tr>\n",
       "    <tr>\n",
       "      <th>595</th>\n",
       "      <td>NBA</td>\n",
       "      <td>augmost01</td>\n",
       "      <td>923500</td>\n",
       "      <td>2000-01</td>\n",
       "      <td>2001</td>\n",
       "      <td>2000</td>\n",
       "      <td>Portland Trail Blazers</td>\n",
       "    </tr>\n",
       "    <tr>\n",
       "      <th>5704</th>\n",
       "      <td>NBA</td>\n",
       "      <td>hinriki01</td>\n",
       "      <td>9500000</td>\n",
       "      <td>2009-10</td>\n",
       "      <td>2010</td>\n",
       "      <td>2009</td>\n",
       "      <td>Chicago Bulls</td>\n",
       "    </tr>\n",
       "    <tr>\n",
       "      <th>5619</th>\n",
       "      <td>NBA</td>\n",
       "      <td>higgiro01</td>\n",
       "      <td>15800</td>\n",
       "      <td>1994-95</td>\n",
       "      <td>1995</td>\n",
       "      <td>1994</td>\n",
       "      <td>Golden State Warriors</td>\n",
       "    </tr>\n",
       "  </tbody>\n",
       "</table>\n",
       "</div>"
      ],
      "text/plain": [
       "      league  player_id   salary   season  season_end  season_start  \\\n",
       "12871    NBA  vaughja01  1262275  2008-09        2009          2008   \n",
       "10280    NBA   powele01   797581  2008-09        2009          2008   \n",
       "6024     NBA  huntest01  3024000  2006-07        2007          2006   \n",
       "10227    NBA  porteot01  5893981  2016-17        2017          2016   \n",
       "595      NBA  augmost01   923500  2000-01        2001          2000   \n",
       "5704     NBA  hinriki01  9500000  2009-10        2010          2009   \n",
       "5619     NBA  higgiro01    15800  1994-95        1995          1994   \n",
       "\n",
       "                         team  \n",
       "12871       San Antonio Spurs  \n",
       "10280          Boston Celtics  \n",
       "6024       Philadelphia 76ers  \n",
       "10227      Washington Wizards  \n",
       "595    Portland Trail Blazers  \n",
       "5704            Chicago Bulls  \n",
       "5619    Golden State Warriors  "
      ]
     },
     "execution_count": 9,
     "metadata": {},
     "output_type": "execute_result"
    }
   ],
   "source": [
    "salaries_df.sample(7)"
   ]
  },
  {
   "cell_type": "markdown",
   "metadata": {},
   "source": [
    "## Salaries with player information"
   ]
  },
  {
   "cell_type": "code",
   "execution_count": 10,
   "metadata": {},
   "outputs": [],
   "source": [
    "def generate_base_df():\n",
    "    return pd.merge(players_df, salaries_df, left_on='_id', right_on='player_id')\n",
    "\n",
    "df = generate_base_df();"
   ]
  },
  {
   "cell_type": "code",
   "execution_count": 11,
   "metadata": {},
   "outputs": [
    {
     "data": {
      "text/html": [
       "<div>\n",
       "<style scoped>\n",
       "    .dataframe tbody tr th:only-of-type {\n",
       "        vertical-align: middle;\n",
       "    }\n",
       "\n",
       "    .dataframe tbody tr th {\n",
       "        vertical-align: top;\n",
       "    }\n",
       "\n",
       "    .dataframe thead th {\n",
       "        text-align: right;\n",
       "    }\n",
       "</style>\n",
       "<table border=\"1\" class=\"dataframe\">\n",
       "  <thead>\n",
       "    <tr style=\"text-align: right;\">\n",
       "      <th></th>\n",
       "      <th>_id</th>\n",
       "      <th>birthDate</th>\n",
       "      <th>birthPlace</th>\n",
       "      <th>career_AST</th>\n",
       "      <th>career_FG%</th>\n",
       "      <th>career_FG3%</th>\n",
       "      <th>career_FT%</th>\n",
       "      <th>career_G</th>\n",
       "      <th>career_PER</th>\n",
       "      <th>career_PTS</th>\n",
       "      <th>...</th>\n",
       "      <th>position</th>\n",
       "      <th>shoots</th>\n",
       "      <th>weight</th>\n",
       "      <th>league</th>\n",
       "      <th>player_id</th>\n",
       "      <th>salary</th>\n",
       "      <th>season</th>\n",
       "      <th>season_end</th>\n",
       "      <th>season_start</th>\n",
       "      <th>team</th>\n",
       "    </tr>\n",
       "  </thead>\n",
       "  <tbody>\n",
       "    <tr>\n",
       "      <th>0</th>\n",
       "      <td>abdelal01</td>\n",
       "      <td>June 24, 1968</td>\n",
       "      <td>Cairo, Egypt</td>\n",
       "      <td>0.3</td>\n",
       "      <td>50.2</td>\n",
       "      <td>0.0</td>\n",
       "      <td>70.1</td>\n",
       "      <td>256</td>\n",
       "      <td>13.0</td>\n",
       "      <td>5.7</td>\n",
       "      <td>...</td>\n",
       "      <td>Power Forward</td>\n",
       "      <td>Right</td>\n",
       "      <td>240lb</td>\n",
       "      <td>NBA</td>\n",
       "      <td>abdelal01</td>\n",
       "      <td>395000</td>\n",
       "      <td>1990-91</td>\n",
       "      <td>1991</td>\n",
       "      <td>1990</td>\n",
       "      <td>Portland Trail Blazers</td>\n",
       "    </tr>\n",
       "    <tr>\n",
       "      <th>1</th>\n",
       "      <td>abdelal01</td>\n",
       "      <td>June 24, 1968</td>\n",
       "      <td>Cairo, Egypt</td>\n",
       "      <td>0.3</td>\n",
       "      <td>50.2</td>\n",
       "      <td>0.0</td>\n",
       "      <td>70.1</td>\n",
       "      <td>256</td>\n",
       "      <td>13.0</td>\n",
       "      <td>5.7</td>\n",
       "      <td>...</td>\n",
       "      <td>Power Forward</td>\n",
       "      <td>Right</td>\n",
       "      <td>240lb</td>\n",
       "      <td>NBA</td>\n",
       "      <td>abdelal01</td>\n",
       "      <td>494000</td>\n",
       "      <td>1991-92</td>\n",
       "      <td>1992</td>\n",
       "      <td>1991</td>\n",
       "      <td>Portland Trail Blazers</td>\n",
       "    </tr>\n",
       "    <tr>\n",
       "      <th>2</th>\n",
       "      <td>abdelal01</td>\n",
       "      <td>June 24, 1968</td>\n",
       "      <td>Cairo, Egypt</td>\n",
       "      <td>0.3</td>\n",
       "      <td>50.2</td>\n",
       "      <td>0.0</td>\n",
       "      <td>70.1</td>\n",
       "      <td>256</td>\n",
       "      <td>13.0</td>\n",
       "      <td>5.7</td>\n",
       "      <td>...</td>\n",
       "      <td>Power Forward</td>\n",
       "      <td>Right</td>\n",
       "      <td>240lb</td>\n",
       "      <td>NBA</td>\n",
       "      <td>abdelal01</td>\n",
       "      <td>500000</td>\n",
       "      <td>1992-93</td>\n",
       "      <td>1993</td>\n",
       "      <td>1992</td>\n",
       "      <td>Boston Celtics</td>\n",
       "    </tr>\n",
       "    <tr>\n",
       "      <th>3</th>\n",
       "      <td>abdelal01</td>\n",
       "      <td>June 24, 1968</td>\n",
       "      <td>Cairo, Egypt</td>\n",
       "      <td>0.3</td>\n",
       "      <td>50.2</td>\n",
       "      <td>0.0</td>\n",
       "      <td>70.1</td>\n",
       "      <td>256</td>\n",
       "      <td>13.0</td>\n",
       "      <td>5.7</td>\n",
       "      <td>...</td>\n",
       "      <td>Power Forward</td>\n",
       "      <td>Right</td>\n",
       "      <td>240lb</td>\n",
       "      <td>NBA</td>\n",
       "      <td>abdelal01</td>\n",
       "      <td>805000</td>\n",
       "      <td>1993-94</td>\n",
       "      <td>1994</td>\n",
       "      <td>1993</td>\n",
       "      <td>Boston Celtics</td>\n",
       "    </tr>\n",
       "    <tr>\n",
       "      <th>4</th>\n",
       "      <td>abdelal01</td>\n",
       "      <td>June 24, 1968</td>\n",
       "      <td>Cairo, Egypt</td>\n",
       "      <td>0.3</td>\n",
       "      <td>50.2</td>\n",
       "      <td>0.0</td>\n",
       "      <td>70.1</td>\n",
       "      <td>256</td>\n",
       "      <td>13.0</td>\n",
       "      <td>5.7</td>\n",
       "      <td>...</td>\n",
       "      <td>Power Forward</td>\n",
       "      <td>Right</td>\n",
       "      <td>240lb</td>\n",
       "      <td>NBA</td>\n",
       "      <td>abdelal01</td>\n",
       "      <td>650000</td>\n",
       "      <td>1994-95</td>\n",
       "      <td>1995</td>\n",
       "      <td>1994</td>\n",
       "      <td>Sacramento Kings</td>\n",
       "    </tr>\n",
       "  </tbody>\n",
       "</table>\n",
       "<p>5 rows × 31 columns</p>\n",
       "</div>"
      ],
      "text/plain": [
       "         _id      birthDate    birthPlace  career_AST career_FG% career_FG3%  \\\n",
       "0  abdelal01  June 24, 1968  Cairo, Egypt         0.3       50.2         0.0   \n",
       "1  abdelal01  June 24, 1968  Cairo, Egypt         0.3       50.2         0.0   \n",
       "2  abdelal01  June 24, 1968  Cairo, Egypt         0.3       50.2         0.0   \n",
       "3  abdelal01  June 24, 1968  Cairo, Egypt         0.3       50.2         0.0   \n",
       "4  abdelal01  June 24, 1968  Cairo, Egypt         0.3       50.2         0.0   \n",
       "\n",
       "  career_FT%  career_G career_PER  career_PTS  ...       position shoots  \\\n",
       "0       70.1       256       13.0         5.7  ...  Power Forward  Right   \n",
       "1       70.1       256       13.0         5.7  ...  Power Forward  Right   \n",
       "2       70.1       256       13.0         5.7  ...  Power Forward  Right   \n",
       "3       70.1       256       13.0         5.7  ...  Power Forward  Right   \n",
       "4       70.1       256       13.0         5.7  ...  Power Forward  Right   \n",
       "\n",
       "  weight league  player_id  salary   season season_end season_start  \\\n",
       "0  240lb    NBA  abdelal01  395000  1990-91       1991         1990   \n",
       "1  240lb    NBA  abdelal01  494000  1991-92       1992         1991   \n",
       "2  240lb    NBA  abdelal01  500000  1992-93       1993         1992   \n",
       "3  240lb    NBA  abdelal01  805000  1993-94       1994         1993   \n",
       "4  240lb    NBA  abdelal01  650000  1994-95       1995         1994   \n",
       "\n",
       "                     team  \n",
       "0  Portland Trail Blazers  \n",
       "1  Portland Trail Blazers  \n",
       "2          Boston Celtics  \n",
       "3          Boston Celtics  \n",
       "4        Sacramento Kings  \n",
       "\n",
       "[5 rows x 31 columns]"
      ]
     },
     "execution_count": 11,
     "metadata": {},
     "output_type": "execute_result"
    }
   ],
   "source": [
    "df.head()"
   ]
  },
  {
   "cell_type": "code",
   "execution_count": 12,
   "metadata": {},
   "outputs": [
    {
     "data": {
      "text/html": [
       "<div>\n",
       "<style scoped>\n",
       "    .dataframe tbody tr th:only-of-type {\n",
       "        vertical-align: middle;\n",
       "    }\n",
       "\n",
       "    .dataframe tbody tr th {\n",
       "        vertical-align: top;\n",
       "    }\n",
       "\n",
       "    .dataframe thead th {\n",
       "        text-align: right;\n",
       "    }\n",
       "</style>\n",
       "<table border=\"1\" class=\"dataframe\">\n",
       "  <thead>\n",
       "    <tr style=\"text-align: right;\">\n",
       "      <th></th>\n",
       "      <th>_id</th>\n",
       "      <th>birthDate</th>\n",
       "      <th>birthPlace</th>\n",
       "      <th>career_AST</th>\n",
       "      <th>career_FG%</th>\n",
       "      <th>career_FG3%</th>\n",
       "      <th>career_FT%</th>\n",
       "      <th>career_G</th>\n",
       "      <th>career_PER</th>\n",
       "      <th>career_PTS</th>\n",
       "      <th>...</th>\n",
       "      <th>position</th>\n",
       "      <th>shoots</th>\n",
       "      <th>weight</th>\n",
       "      <th>league</th>\n",
       "      <th>player_id</th>\n",
       "      <th>salary</th>\n",
       "      <th>season</th>\n",
       "      <th>season_end</th>\n",
       "      <th>season_start</th>\n",
       "      <th>team</th>\n",
       "    </tr>\n",
       "  </thead>\n",
       "  <tbody>\n",
       "    <tr>\n",
       "      <th>14158</th>\n",
       "      <td>zipsepa01</td>\n",
       "      <td>February 18, 1994</td>\n",
       "      <td>Heidelberg, Germany</td>\n",
       "      <td>0.8</td>\n",
       "      <td>37.1</td>\n",
       "      <td>33.5</td>\n",
       "      <td>76.9</td>\n",
       "      <td>98</td>\n",
       "      <td>6.1</td>\n",
       "      <td>4.7</td>\n",
       "      <td>...</td>\n",
       "      <td>Small Forward</td>\n",
       "      <td>Right</td>\n",
       "      <td>215lb</td>\n",
       "      <td>NBA</td>\n",
       "      <td>zipsepa01</td>\n",
       "      <td>750000</td>\n",
       "      <td>2016-17</td>\n",
       "      <td>2017</td>\n",
       "      <td>2016</td>\n",
       "      <td>Chicago Bulls</td>\n",
       "    </tr>\n",
       "    <tr>\n",
       "      <th>14159</th>\n",
       "      <td>zipsepa01</td>\n",
       "      <td>February 18, 1994</td>\n",
       "      <td>Heidelberg, Germany</td>\n",
       "      <td>0.8</td>\n",
       "      <td>37.1</td>\n",
       "      <td>33.5</td>\n",
       "      <td>76.9</td>\n",
       "      <td>98</td>\n",
       "      <td>6.1</td>\n",
       "      <td>4.7</td>\n",
       "      <td>...</td>\n",
       "      <td>Small Forward</td>\n",
       "      <td>Right</td>\n",
       "      <td>215lb</td>\n",
       "      <td>NBA</td>\n",
       "      <td>zipsepa01</td>\n",
       "      <td>1312611</td>\n",
       "      <td>2017-18</td>\n",
       "      <td>2018</td>\n",
       "      <td>2017</td>\n",
       "      <td>Chicago Bulls</td>\n",
       "    </tr>\n",
       "    <tr>\n",
       "      <th>14160</th>\n",
       "      <td>zizican01</td>\n",
       "      <td>January 4, 1997</td>\n",
       "      <td>Split, Croatia</td>\n",
       "      <td>0.6</td>\n",
       "      <td>58.3</td>\n",
       "      <td>-</td>\n",
       "      <td>70.8</td>\n",
       "      <td>91</td>\n",
       "      <td>17.5</td>\n",
       "      <td>6.4</td>\n",
       "      <td>...</td>\n",
       "      <td>Center</td>\n",
       "      <td>Right</td>\n",
       "      <td>254lb</td>\n",
       "      <td>NBA</td>\n",
       "      <td>zizican01</td>\n",
       "      <td>1645200</td>\n",
       "      <td>2017-18</td>\n",
       "      <td>2018</td>\n",
       "      <td>2017</td>\n",
       "      <td>Cleveland Cavaliers</td>\n",
       "    </tr>\n",
       "    <tr>\n",
       "      <th>14161</th>\n",
       "      <td>zubaciv01</td>\n",
       "      <td>March 18, 1997</td>\n",
       "      <td>Mostar, Bosnia and Herzegovina</td>\n",
       "      <td>0.8</td>\n",
       "      <td>54.0</td>\n",
       "      <td>0.0</td>\n",
       "      <td>76.1</td>\n",
       "      <td>140</td>\n",
       "      <td>17.6</td>\n",
       "      <td>6.9</td>\n",
       "      <td>...</td>\n",
       "      <td>Center</td>\n",
       "      <td>Right</td>\n",
       "      <td>240lb</td>\n",
       "      <td>NBA</td>\n",
       "      <td>zubaciv01</td>\n",
       "      <td>1034956</td>\n",
       "      <td>2016-17</td>\n",
       "      <td>2017</td>\n",
       "      <td>2016</td>\n",
       "      <td>Los Angeles Lakers</td>\n",
       "    </tr>\n",
       "    <tr>\n",
       "      <th>14162</th>\n",
       "      <td>zubaciv01</td>\n",
       "      <td>March 18, 1997</td>\n",
       "      <td>Mostar, Bosnia and Herzegovina</td>\n",
       "      <td>0.8</td>\n",
       "      <td>54.0</td>\n",
       "      <td>0.0</td>\n",
       "      <td>76.1</td>\n",
       "      <td>140</td>\n",
       "      <td>17.6</td>\n",
       "      <td>6.9</td>\n",
       "      <td>...</td>\n",
       "      <td>Center</td>\n",
       "      <td>Right</td>\n",
       "      <td>240lb</td>\n",
       "      <td>NBA</td>\n",
       "      <td>zubaciv01</td>\n",
       "      <td>1312611</td>\n",
       "      <td>2017-18</td>\n",
       "      <td>2018</td>\n",
       "      <td>2017</td>\n",
       "      <td>Los Angeles Lakers</td>\n",
       "    </tr>\n",
       "  </tbody>\n",
       "</table>\n",
       "<p>5 rows × 31 columns</p>\n",
       "</div>"
      ],
      "text/plain": [
       "             _id          birthDate                      birthPlace  \\\n",
       "14158  zipsepa01  February 18, 1994             Heidelberg, Germany   \n",
       "14159  zipsepa01  February 18, 1994             Heidelberg, Germany   \n",
       "14160  zizican01    January 4, 1997                  Split, Croatia   \n",
       "14161  zubaciv01     March 18, 1997  Mostar, Bosnia and Herzegovina   \n",
       "14162  zubaciv01     March 18, 1997  Mostar, Bosnia and Herzegovina   \n",
       "\n",
       "       career_AST career_FG% career_FG3% career_FT%  career_G career_PER  \\\n",
       "14158         0.8       37.1        33.5       76.9        98        6.1   \n",
       "14159         0.8       37.1        33.5       76.9        98        6.1   \n",
       "14160         0.6       58.3           -       70.8        91       17.5   \n",
       "14161         0.8       54.0         0.0       76.1       140       17.6   \n",
       "14162         0.8       54.0         0.0       76.1       140       17.6   \n",
       "\n",
       "       career_PTS  ...       position shoots weight league  player_id  \\\n",
       "14158         4.7  ...  Small Forward  Right  215lb    NBA  zipsepa01   \n",
       "14159         4.7  ...  Small Forward  Right  215lb    NBA  zipsepa01   \n",
       "14160         6.4  ...         Center  Right  254lb    NBA  zizican01   \n",
       "14161         6.9  ...         Center  Right  240lb    NBA  zubaciv01   \n",
       "14162         6.9  ...         Center  Right  240lb    NBA  zubaciv01   \n",
       "\n",
       "        salary   season season_end season_start                 team  \n",
       "14158   750000  2016-17       2017         2016        Chicago Bulls  \n",
       "14159  1312611  2017-18       2018         2017        Chicago Bulls  \n",
       "14160  1645200  2017-18       2018         2017  Cleveland Cavaliers  \n",
       "14161  1034956  2016-17       2017         2016   Los Angeles Lakers  \n",
       "14162  1312611  2017-18       2018         2017   Los Angeles Lakers  \n",
       "\n",
       "[5 rows x 31 columns]"
      ]
     },
     "execution_count": 12,
     "metadata": {},
     "output_type": "execute_result"
    }
   ],
   "source": [
    "df.tail()"
   ]
  },
  {
   "cell_type": "code",
   "execution_count": 13,
   "metadata": {},
   "outputs": [
    {
     "name": "stdout",
     "output_type": "stream",
     "text": [
      "<class 'pandas.core.frame.DataFrame'>\n",
      "Int64Index: 14163 entries, 0 to 14162\n",
      "Data columns (total 31 columns):\n",
      "_id             14163 non-null object\n",
      "birthDate       14163 non-null object\n",
      "birthPlace      14163 non-null object\n",
      "career_AST      14163 non-null float64\n",
      "career_FG%      14163 non-null object\n",
      "career_FG3%     14163 non-null object\n",
      "career_FT%      14163 non-null object\n",
      "career_G        14163 non-null int64\n",
      "career_PER      14163 non-null object\n",
      "career_PTS      14163 non-null float64\n",
      "career_TRB      14163 non-null object\n",
      "career_WS       14163 non-null object\n",
      "career_eFG%     14163 non-null object\n",
      "college         12527 non-null object\n",
      "draft_pick      12261 non-null object\n",
      "draft_round     12261 non-null object\n",
      "draft_team      12261 non-null object\n",
      "draft_year      12261 non-null object\n",
      "height          14163 non-null object\n",
      "highSchool      13174 non-null object\n",
      "name            14163 non-null object\n",
      "position        14163 non-null object\n",
      "shoots          14163 non-null object\n",
      "weight          14163 non-null object\n",
      "league          14163 non-null object\n",
      "player_id       14163 non-null object\n",
      "salary          14163 non-null int64\n",
      "season          14163 non-null object\n",
      "season_end      14163 non-null int64\n",
      "season_start    14163 non-null int64\n",
      "team            14159 non-null object\n",
      "dtypes: float64(2), int64(4), object(25)\n",
      "memory usage: 3.5+ MB\n"
     ]
    }
   ],
   "source": [
    "df.info()"
   ]
  },
  {
   "cell_type": "code",
   "execution_count": 14,
   "metadata": {},
   "outputs": [],
   "source": [
    "df.drop(columns=['player_id'], inplace=True)"
   ]
  },
  {
   "cell_type": "code",
   "execution_count": 15,
   "metadata": {},
   "outputs": [],
   "source": [
    "df.rename(columns={\"_id\": \"id\"}, inplace=True)"
   ]
  },
  {
   "cell_type": "code",
   "execution_count": 16,
   "metadata": {},
   "outputs": [
    {
     "data": {
      "text/plain": [
       "Index(['id', 'birthDate', 'birthPlace', 'career_AST', 'career_FG%',\n",
       "       'career_FG3%', 'career_FT%', 'career_G', 'career_PER', 'career_PTS',\n",
       "       'career_TRB', 'career_WS', 'career_eFG%', 'college', 'draft_pick',\n",
       "       'draft_round', 'draft_team', 'draft_year', 'height', 'highSchool',\n",
       "       'name', 'position', 'shoots', 'weight', 'league', 'salary', 'season',\n",
       "       'season_end', 'season_start', 'team'],\n",
       "      dtype='object')"
      ]
     },
     "execution_count": 16,
     "metadata": {},
     "output_type": "execute_result"
    }
   ],
   "source": [
    "df.columns"
   ]
  },
  {
   "cell_type": "code",
   "execution_count": 17,
   "metadata": {},
   "outputs": [],
   "source": [
    "# df.profile_report()"
   ]
  },
  {
   "cell_type": "markdown",
   "metadata": {},
   "source": [
    "# Regressionsproblem\n",
    "\n",
    "Für den Salary Datensatz kannst du versuchen mit Regressionsmethoden, die Gehälter zu predicten (Welche Features sind ausschlaggebend für ein hohes bzw niedriges Gehalt? Verdient man mehr als Point oder Shooting Guard?). Dimensionality Reduction kannst du zum Visualisieren benutzen um visuell zu sehen, ob es Gruppierungen bei den Spielern gibt (Welche Features sind dabei wichtig? zb College oder Position).\n",
    "\n",
    "Mit Clustering kannst du dann die Spieler in k Gruppen einteilen, abhängig von den sportlichen Werten (Wenn man ähnlich gute sportliche Werte hat, hat man dann auch ein ähnliches gutes Gehalt? Verdient man mehr, wenn man gut in der Defensive oder Offensive ist?)."
   ]
  },
  {
   "cell_type": "code",
   "execution_count": null,
   "metadata": {},
   "outputs": [],
   "source": []
  },
  {
   "cell_type": "code",
   "execution_count": null,
   "metadata": {},
   "outputs": [],
   "source": []
  },
  {
   "cell_type": "code",
   "execution_count": null,
   "metadata": {},
   "outputs": [],
   "source": []
  },
  {
   "cell_type": "code",
   "execution_count": null,
   "metadata": {},
   "outputs": [],
   "source": []
  },
  {
   "cell_type": "code",
   "execution_count": null,
   "metadata": {},
   "outputs": [],
   "source": []
  },
  {
   "cell_type": "code",
   "execution_count": null,
   "metadata": {},
   "outputs": [],
   "source": []
  },
  {
   "cell_type": "markdown",
   "metadata": {},
   "source": [
    "# === === === === === === === === ===\n",
    "# === === === === === === === === ==="
   ]
  },
  {
   "cell_type": "markdown",
   "metadata": {},
   "source": [
    "# Preprocessing"
   ]
  },
  {
   "cell_type": "code",
   "execution_count": 344,
   "metadata": {},
   "outputs": [],
   "source": [
    "df = generate_base_df();"
   ]
  },
  {
   "cell_type": "code",
   "execution_count": 345,
   "metadata": {},
   "outputs": [],
   "source": [
    "# df.profile_report()"
   ]
  },
  {
   "cell_type": "code",
   "execution_count": 346,
   "metadata": {},
   "outputs": [
    {
     "data": {
      "text/plain": [
       "Index(['_id', 'birthDate', 'birthPlace', 'career_AST', 'career_FG%',\n",
       "       'career_FG3%', 'career_FT%', 'career_G', 'career_PER', 'career_PTS',\n",
       "       'career_TRB', 'career_WS', 'career_eFG%', 'college', 'draft_pick',\n",
       "       'draft_round', 'draft_team', 'draft_year', 'height', 'highSchool',\n",
       "       'name', 'position', 'shoots', 'weight', 'league', 'player_id', 'salary',\n",
       "       'season', 'season_end', 'season_start', 'team'],\n",
       "      dtype='object')"
      ]
     },
     "execution_count": 346,
     "metadata": {},
     "output_type": "execute_result"
    }
   ],
   "source": [
    "df.columns"
   ]
  },
  {
   "cell_type": "code",
   "execution_count": 347,
   "metadata": {},
   "outputs": [
    {
     "data": {
      "text/html": [
       "<div>\n",
       "<style scoped>\n",
       "    .dataframe tbody tr th:only-of-type {\n",
       "        vertical-align: middle;\n",
       "    }\n",
       "\n",
       "    .dataframe tbody tr th {\n",
       "        vertical-align: top;\n",
       "    }\n",
       "\n",
       "    .dataframe thead th {\n",
       "        text-align: right;\n",
       "    }\n",
       "</style>\n",
       "<table border=\"1\" class=\"dataframe\">\n",
       "  <thead>\n",
       "    <tr style=\"text-align: right;\">\n",
       "      <th></th>\n",
       "      <th>salary</th>\n",
       "    </tr>\n",
       "  </thead>\n",
       "  <tbody>\n",
       "    <tr>\n",
       "      <th>salary</th>\n",
       "      <td>1.000000</td>\n",
       "    </tr>\n",
       "    <tr>\n",
       "      <th>career_PTS</th>\n",
       "      <td>0.485203</td>\n",
       "    </tr>\n",
       "    <tr>\n",
       "      <th>career_G</th>\n",
       "      <td>0.367692</td>\n",
       "    </tr>\n",
       "    <tr>\n",
       "      <th>season_start</th>\n",
       "      <td>0.356966</td>\n",
       "    </tr>\n",
       "    <tr>\n",
       "      <th>season_end</th>\n",
       "      <td>0.356966</td>\n",
       "    </tr>\n",
       "    <tr>\n",
       "      <th>career_AST</th>\n",
       "      <td>0.262386</td>\n",
       "    </tr>\n",
       "  </tbody>\n",
       "</table>\n",
       "</div>"
      ],
      "text/plain": [
       "                salary\n",
       "salary        1.000000\n",
       "career_PTS    0.485203\n",
       "career_G      0.367692\n",
       "season_start  0.356966\n",
       "season_end    0.356966\n",
       "career_AST    0.262386"
      ]
     },
     "execution_count": 347,
     "metadata": {},
     "output_type": "execute_result"
    }
   ],
   "source": [
    "pd.DataFrame(abs(df.corr().salary).sort_values(ascending = False))"
   ]
  },
  {
   "cell_type": "markdown",
   "metadata": {},
   "source": [
    "## ID's\n",
    "\n",
    "Die Spalten mit __ID's__ können ohne weitere Bedenken entfernt werden, da es sich dabei um Werte handelt, die immer unterschiedlich sein sollten."
   ]
  },
  {
   "cell_type": "code",
   "execution_count": 348,
   "metadata": {},
   "outputs": [],
   "source": [
    "df.drop(columns=['_id', 'player_id'], inplace=True)"
   ]
  },
  {
   "cell_type": "markdown",
   "metadata": {},
   "source": [
    "## League\n",
    "\n",
    "Laut dem _Pandas Profiling Report_ handelt es sich bei der Variable __league__ um eine Konstante - _constant_. Jeder Spieler in diesem Datensatz ist Teil der _NBA_, wodurch dieses Feature keinen Mehrwert schaffen würde."
   ]
  },
  {
   "cell_type": "code",
   "execution_count": 349,
   "metadata": {},
   "outputs": [
    {
     "data": {
      "text/plain": [
       "count     14163\n",
       "unique        1\n",
       "top         NBA\n",
       "freq      14163\n",
       "Name: league, dtype: object"
      ]
     },
     "execution_count": 349,
     "metadata": {},
     "output_type": "execute_result"
    }
   ],
   "source": [
    "df['league'].describe()"
   ]
  },
  {
   "cell_type": "code",
   "execution_count": 350,
   "metadata": {},
   "outputs": [],
   "source": [
    "df.drop(columns=['league'], inplace=True)"
   ]
  },
  {
   "cell_type": "markdown",
   "metadata": {},
   "source": [
    "## Birth Date\n",
    "\n",
    "Laut dem _Pandas Profiling Report_ weißt die Variable __birthDate__ _high cardinality_ auf. Prinzipiell könnten die Features _birth_month_, _birth_day_ und _birth_year_ aus der genannten Variable entnommen werden. Dies scheint auf den ersten Blick jedoch keinen wirklichen Mehrwert zu bieten. Das aktuelle Alter des jeweiligen Spielers in der jeweiligen Saison zu beachten wirklt hingegen interessanter. Daher wird das Feature __age__ eingeführt."
   ]
  },
  {
   "cell_type": "code",
   "execution_count": 351,
   "metadata": {},
   "outputs": [
    {
     "data": {
      "text/plain": [
       "count             14163\n",
       "unique             2235\n",
       "top       June 26, 1984\n",
       "freq                 41\n",
       "Name: birthDate, dtype: object"
      ]
     },
     "execution_count": 351,
     "metadata": {},
     "output_type": "execute_result"
    }
   ],
   "source": [
    "df['birthDate'].describe()"
   ]
  },
  {
   "cell_type": "markdown",
   "metadata": {},
   "source": [
    "### Age"
   ]
  },
  {
   "cell_type": "markdown",
   "metadata": {},
   "source": [
    "Zunächst kann das Geburtsjahr entnommen werden."
   ]
  },
  {
   "cell_type": "code",
   "execution_count": 352,
   "metadata": {},
   "outputs": [],
   "source": [
    "def birthDateToBirthYear(birthDate):\n",
    "    return birthDate.split()[2]"
   ]
  },
  {
   "cell_type": "code",
   "execution_count": 353,
   "metadata": {},
   "outputs": [],
   "source": [
    "df['birth_year'] = df['birthDate']\n",
    "df['birth_year'] = df['birth_year'].apply(birthDateToBirthYear)"
   ]
  },
  {
   "cell_type": "code",
   "execution_count": 354,
   "metadata": {},
   "outputs": [],
   "source": [
    "df['birth_year'] = df['birth_year'].astype(int)"
   ]
  },
  {
   "cell_type": "code",
   "execution_count": 355,
   "metadata": {},
   "outputs": [
    {
     "data": {
      "text/plain": [
       "5418     1979\n",
       "13908    1963\n",
       "247      1976\n",
       "6204     1970\n",
       "5221     1993\n",
       "2137     1986\n",
       "7387     1966\n",
       "Name: birth_year, dtype: int64"
      ]
     },
     "execution_count": 355,
     "metadata": {},
     "output_type": "execute_result"
    }
   ],
   "source": [
    "df['birth_year'].sample(7)"
   ]
  },
  {
   "cell_type": "markdown",
   "metadata": {},
   "source": [
    "Anschließend kann das Alter in Monaten berechnet werden."
   ]
  },
  {
   "cell_type": "code",
   "execution_count": 356,
   "metadata": {},
   "outputs": [],
   "source": [
    "df['age_in_months'] = df['season_end'].astype(int) - df['birth_year'].astype(int)"
   ]
  },
  {
   "cell_type": "code",
   "execution_count": 357,
   "metadata": {},
   "outputs": [],
   "source": [
    "df['age_in_months'] = df['age_in_months'].apply(lambda x: x * 12)"
   ]
  },
  {
   "cell_type": "code",
   "execution_count": 358,
   "metadata": {},
   "outputs": [
    {
     "data": {
      "text/plain": [
       "7457     312\n",
       "1018     396\n",
       "2821     300\n",
       "8234     348\n",
       "237      420\n",
       "9989     372\n",
       "11371    324\n",
       "Name: age_in_months, dtype: int64"
      ]
     },
     "execution_count": 358,
     "metadata": {},
     "output_type": "execute_result"
    }
   ],
   "source": [
    "df['age_in_months'].sample(7)"
   ]
  },
  {
   "cell_type": "markdown",
   "metadata": {},
   "source": [
    "Letzendlich können die unbenötigten Features vom Datensatz entfernt werden."
   ]
  },
  {
   "cell_type": "code",
   "execution_count": 359,
   "metadata": {},
   "outputs": [],
   "source": [
    "df.drop(columns=['birth_year', 'birthDate'], inplace=True)"
   ]
  },
  {
   "cell_type": "markdown",
   "metadata": {},
   "source": [
    "## Birth Place\n",
    "\n",
    "Laut dem _Pandas Profiling Report_ weißt die Variable __birthPlace__ eine _high cardinality_ auf. Deshalb soll nur das Land in Betracht gezogen werden."
   ]
  },
  {
   "cell_type": "code",
   "execution_count": 360,
   "metadata": {},
   "outputs": [
    {
     "data": {
      "text/plain": [
       "count                 14163\n",
       "unique                 1055\n",
       "top       Chicago, Illinois\n",
       "freq                    487\n",
       "Name: birthPlace, dtype: object"
      ]
     },
     "execution_count": 360,
     "metadata": {},
     "output_type": "execute_result"
    }
   ],
   "source": [
    "df['birthPlace'].describe()"
   ]
  },
  {
   "cell_type": "code",
   "execution_count": 361,
   "metadata": {},
   "outputs": [],
   "source": [
    "def generalizeBirthPlace(birthPlace):\n",
    "    splitted =  birthPlace.split(\",\")\n",
    "    \n",
    "    return splitted[1] if len(splitted) >= 2 else \",\".join(splitted)"
   ]
  },
  {
   "cell_type": "code",
   "execution_count": 362,
   "metadata": {},
   "outputs": [],
   "source": [
    "def statesToUSA(birthPlace):\n",
    "    states = [\"Alabama\",\"Alaska\",\"Arizona\",\"Arkansas\",\"California\",\"Colorado\",\"Connecticut\",\"Delaware\",\"Florida\",\"Georgia\",\"Hawaii\",\"Idaho\",\"Illinois\",\n",
    "              \"Indiana\",\"Iowa\",\"Kansas\",\"Kentucky\",\"Louisiana\",\"Maine\",\"Maryland\",\"Massachusetts\",\"Michigan\",\"Minnesota\",\"Mississippi\",\"Missouri\",\"Montana\",\n",
    "              \"Nebraska\",\"Nevada\",\"New Hampshire\",\"New Jersey\",\"New Mexico\",\"New York\",\"North Carolina\",\"North Dakota\",\"Ohio\",\"Oklahoma\",\"Oregon\",\"Pennsylvania\",\n",
    "              \"Rhode Island\",\"South Carolina\",\"South Dakota\",\"Tennessee\",\"Texas\",\"Utah\",\"Vermont\",\"Virginia\",\"Washington\",\"West Virginia\",\"Wisconsin\",\"Wyoming\"]\n",
    "    \n",
    "    def process(string):\n",
    "        return string.lower().strip()\n",
    "        \n",
    "    states = map(process, states)\n",
    "    \n",
    "    return \"USA\" if process(birthPlace) in states else birthPlace"
   ]
  },
  {
   "cell_type": "code",
   "execution_count": 363,
   "metadata": {},
   "outputs": [],
   "source": [
    "df['birthPlace'] = df['birthPlace'].apply(generalizeBirthPlace)"
   ]
  },
  {
   "cell_type": "code",
   "execution_count": 364,
   "metadata": {},
   "outputs": [],
   "source": [
    "df['birthPlace'] = df['birthPlace'].apply(statesToUSA)"
   ]
  },
  {
   "cell_type": "code",
   "execution_count": 365,
   "metadata": {},
   "outputs": [],
   "source": [
    "df.rename(columns={\"birthPlace\": \"birth_country\"}, inplace=True)"
   ]
  },
  {
   "cell_type": "code",
   "execution_count": 366,
   "metadata": {},
   "outputs": [
    {
     "data": {
      "text/plain": [
       "3305    USA\n",
       "8592    USA\n",
       "7337    USA\n",
       "5466    USA\n",
       "4708    USA\n",
       "8287    USA\n",
       "3643    USA\n",
       "Name: birth_country, dtype: object"
      ]
     },
     "execution_count": 366,
     "metadata": {},
     "output_type": "execute_result"
    }
   ],
   "source": [
    "df['birth_country'].sample(7)"
   ]
  },
  {
   "cell_type": "code",
   "execution_count": 367,
   "metadata": {},
   "outputs": [
    {
     "data": {
      "text/plain": [
       "count     14163\n",
       "unique       81\n",
       "top         USA\n",
       "freq      11923\n",
       "Name: birth_country, dtype: object"
      ]
     },
     "execution_count": 367,
     "metadata": {},
     "output_type": "execute_result"
    }
   ],
   "source": [
    "df['birth_country'].describe()"
   ]
  },
  {
   "cell_type": "code",
   "execution_count": 368,
   "metadata": {},
   "outputs": [],
   "source": [
    "df = pd.get_dummies(df, columns=['birth_country'])"
   ]
  },
  {
   "cell_type": "markdown",
   "metadata": {},
   "source": [
    "## College\n",
    "\n",
    "Laut dem _Pandas Profiling Report_ weißt die Variable __college__ _high cardinality_ und _missing data_ auf. Das Problem der fehlenden Datenpunkte wird durch folgende Annahme behoben: Fehlende Datenpunkte repräsentieren Spieler, die kein College besucht haben. _LeBron James_ hat beispielsweise kein College eingetragen und auch tatsächlich kein College besucht. Deshalb wird der Wert _NO_COLLEGE_ bei diesen Spielern hinzugefügt. Das Problem der hohen Kardinalität scheint derzeit nicht lösbar zu sein. Eine drastische Maßnahme wäre ausschließlich das Feature __attended_college__ aufzunehmen."
   ]
  },
  {
   "cell_type": "markdown",
   "metadata": {},
   "source": [
    "### Standardansatz"
   ]
  },
  {
   "cell_type": "code",
   "execution_count": 369,
   "metadata": {},
   "outputs": [
    {
     "data": {
      "text/plain": [
       "count                            12527\n",
       "unique                             495\n",
       "top       University of North Carolina\n",
       "freq                               416\n",
       "Name: college, dtype: object"
      ]
     },
     "execution_count": 369,
     "metadata": {},
     "output_type": "execute_result"
    }
   ],
   "source": [
    "df['college'].describe()"
   ]
  },
  {
   "cell_type": "code",
   "execution_count": 370,
   "metadata": {},
   "outputs": [],
   "source": [
    "# df['college'] = df['college'].fillna('NO_COLLEGE')"
   ]
  },
  {
   "cell_type": "code",
   "execution_count": 371,
   "metadata": {},
   "outputs": [],
   "source": [
    "# df['college'].sample(7)"
   ]
  },
  {
   "cell_type": "code",
   "execution_count": 372,
   "metadata": {},
   "outputs": [],
   "source": [
    "# df = pd.get_dummies(df, columns=['college'])"
   ]
  },
  {
   "cell_type": "markdown",
   "metadata": {},
   "source": [
    "### Alternative"
   ]
  },
  {
   "cell_type": "code",
   "execution_count": 373,
   "metadata": {},
   "outputs": [],
   "source": [
    "df['college'] = df['college'].isna()"
   ]
  },
  {
   "cell_type": "code",
   "execution_count": 374,
   "metadata": {},
   "outputs": [],
   "source": [
    "df.rename(columns={\"college\": \"attended_college\"}, inplace=True)"
   ]
  },
  {
   "cell_type": "code",
   "execution_count": 375,
   "metadata": {},
   "outputs": [
    {
     "data": {
      "text/plain": [
       "7051     False\n",
       "9668     False\n",
       "2844     False\n",
       "10712    False\n",
       "4398     False\n",
       "11418    False\n",
       "10253    False\n",
       "Name: attended_college, dtype: bool"
      ]
     },
     "execution_count": 375,
     "metadata": {},
     "output_type": "execute_result"
    }
   ],
   "source": [
    "df['attended_college'].sample(7)"
   ]
  },
  {
   "cell_type": "code",
   "execution_count": 376,
   "metadata": {},
   "outputs": [],
   "source": [
    "df = pd.get_dummies(df, columns=['attended_college'])"
   ]
  },
  {
   "cell_type": "markdown",
   "metadata": {},
   "source": [
    "## Name\n",
    "\n",
    "Laut dem _Pandas Profiling Report_ weißt die Variable __name__ _high cardinality_ auf. Möglicherweise könnte man __name_length__ aus dem genannten Feature extrahieren, jedoch besteht die Vermutung, dass der Name keinen großen Einfluss auf das Gehalt der Spieler hat. Deshalb wird das Feature vorläufig von dem Datensatz entfernt."
   ]
  },
  {
   "cell_type": "code",
   "execution_count": 377,
   "metadata": {},
   "outputs": [],
   "source": [
    "df.drop(columns=['name'], inplace=True)"
   ]
  },
  {
   "cell_type": "markdown",
   "metadata": {},
   "source": [
    "## Weight\n",
    "\n",
    "Da es sich beim Gewicht um einen numerischen Wert handelt sollte dieser auch so dargestellt werden. Die Einheit wird entfernt und der Datentyp angepasst."
   ]
  },
  {
   "cell_type": "code",
   "execution_count": 378,
   "metadata": {},
   "outputs": [
    {
     "data": {
      "text/plain": [
       "count     14163\n",
       "unique      138\n",
       "top       220lb\n",
       "freq        962\n",
       "Name: weight, dtype: object"
      ]
     },
     "execution_count": 378,
     "metadata": {},
     "output_type": "execute_result"
    }
   ],
   "source": [
    "df['weight'].describe()"
   ]
  },
  {
   "cell_type": "code",
   "execution_count": 379,
   "metadata": {},
   "outputs": [],
   "source": [
    "def removeLB(weight):\n",
    "    return weight[:-2]"
   ]
  },
  {
   "cell_type": "code",
   "execution_count": 380,
   "metadata": {},
   "outputs": [],
   "source": [
    "df['weight'] = df['weight'].apply(removeLB)"
   ]
  },
  {
   "cell_type": "code",
   "execution_count": 381,
   "metadata": {},
   "outputs": [],
   "source": [
    "df['weight'] = df['weight'].astype(int)"
   ]
  },
  {
   "cell_type": "code",
   "execution_count": 382,
   "metadata": {},
   "outputs": [
    {
     "data": {
      "text/plain": [
       "10820    220\n",
       "835      185\n",
       "4264     250\n",
       "10287    225\n",
       "11202    195\n",
       "1105     182\n",
       "8480     240\n",
       "Name: weight, dtype: int64"
      ]
     },
     "execution_count": 382,
     "metadata": {},
     "output_type": "execute_result"
    }
   ],
   "source": [
    "df['weight'].sample(7)"
   ]
  },
  {
   "cell_type": "markdown",
   "metadata": {},
   "source": [
    "## Season\n",
    "\n",
    "Die Variable __season__ kann entfernt werden, da diese Information bereits in den Features __season_start__ und __season_end__ enthalten ist."
   ]
  },
  {
   "cell_type": "code",
   "execution_count": 383,
   "metadata": {},
   "outputs": [],
   "source": [
    "df.drop(columns=['season'], inplace=True)"
   ]
  },
  {
   "cell_type": "markdown",
   "metadata": {},
   "source": [
    "## High School\n",
    "\n",
    "Die Variable __highSchool__ weißt Ähnlichkeiten mit dem Feature __college__ auf: _high_cardinality_ und _missing_data_. Hier tendiere ich jedoch zu dem Alternativansatz, der beim Feature __college__ beschrieben wird: Es soll ein neues Feature __attended_high_school__ eingeführt werden. Hier wird diese Variante gewählt, da das Feature im Gegensatz zu dem anderen noch mehr eindeutige Werte besitzt und dem High-School-Abschluss vermutlich weniger Bedeutung als dem College-Abschluss zuzumessen ist."
   ]
  },
  {
   "cell_type": "code",
   "execution_count": 384,
   "metadata": {},
   "outputs": [
    {
     "data": {
      "text/plain": [
       "count                                             13174\n",
       "unique                                             1619\n",
       "top       Oak Hill Academy in Mouth of Wilson, Virginia\n",
       "freq                                                208\n",
       "Name: highSchool, dtype: object"
      ]
     },
     "execution_count": 384,
     "metadata": {},
     "output_type": "execute_result"
    }
   ],
   "source": [
    "df['highSchool'].describe()"
   ]
  },
  {
   "cell_type": "code",
   "execution_count": 385,
   "metadata": {},
   "outputs": [],
   "source": [
    "df['highSchool'] = df['highSchool'].isna()"
   ]
  },
  {
   "cell_type": "code",
   "execution_count": 386,
   "metadata": {},
   "outputs": [],
   "source": [
    "df.rename(columns={\"highSchool\": \"attended_high_school\"}, inplace=True)"
   ]
  },
  {
   "cell_type": "code",
   "execution_count": 387,
   "metadata": {},
   "outputs": [
    {
     "data": {
      "text/plain": [
       "2379    False\n",
       "159     False\n",
       "1204    False\n",
       "5607    False\n",
       "4626    False\n",
       "4401    False\n",
       "5591    False\n",
       "Name: attended_high_school, dtype: bool"
      ]
     },
     "execution_count": 387,
     "metadata": {},
     "output_type": "execute_result"
    }
   ],
   "source": [
    "df['attended_high_school'].sample(7)"
   ]
  },
  {
   "cell_type": "code",
   "execution_count": 388,
   "metadata": {},
   "outputs": [],
   "source": [
    "df = pd.get_dummies(df, columns=['attended_high_school'])"
   ]
  },
  {
   "cell_type": "markdown",
   "metadata": {},
   "source": [
    "## Position"
   ]
  },
  {
   "cell_type": "code",
   "execution_count": 389,
   "metadata": {},
   "outputs": [],
   "source": [
    "def processMultiplePositions(position):\n",
    "    return \"MULTIPLE_POSITIONS\" if \"and\" in position.split() else position"
   ]
  },
  {
   "cell_type": "code",
   "execution_count": 390,
   "metadata": {},
   "outputs": [
    {
     "data": {
      "text/plain": [
       "count      14163\n",
       "unique        36\n",
       "top       Center\n",
       "freq        1909\n",
       "Name: position, dtype: object"
      ]
     },
     "execution_count": 390,
     "metadata": {},
     "output_type": "execute_result"
    }
   ],
   "source": [
    "df['position'].describe()"
   ]
  },
  {
   "cell_type": "code",
   "execution_count": 391,
   "metadata": {},
   "outputs": [],
   "source": [
    "df['position'] = df['position'].apply(processMultiplePositions)"
   ]
  },
  {
   "cell_type": "code",
   "execution_count": 392,
   "metadata": {},
   "outputs": [
    {
     "data": {
      "text/plain": [
       "count                  14163\n",
       "unique                     6\n",
       "top       MULTIPLE_POSITIONS\n",
       "freq                    7202\n",
       "Name: position, dtype: object"
      ]
     },
     "execution_count": 392,
     "metadata": {},
     "output_type": "execute_result"
    }
   ],
   "source": [
    "df['position'].describe()"
   ]
  },
  {
   "cell_type": "code",
   "execution_count": 393,
   "metadata": {},
   "outputs": [
    {
     "data": {
      "text/plain": [
       "11190    MULTIPLE_POSITIONS\n",
       "10499                Center\n",
       "1644          Power Forward\n",
       "3441     MULTIPLE_POSITIONS\n",
       "14017         Small Forward\n",
       "13532    MULTIPLE_POSITIONS\n",
       "12824                Center\n",
       "Name: position, dtype: object"
      ]
     },
     "execution_count": 393,
     "metadata": {},
     "output_type": "execute_result"
    }
   ],
   "source": [
    "df['position'].sample(7)"
   ]
  },
  {
   "cell_type": "code",
   "execution_count": 394,
   "metadata": {},
   "outputs": [],
   "source": [
    "df = pd.get_dummies(df, columns=['position'])"
   ]
  },
  {
   "cell_type": "markdown",
   "metadata": {},
   "source": [
    "## Career Stats\n",
    "\n",
    "Bei allen _Career Stats_ müssen die fehlenden Datenpunkte aufgefüllt werden. In diesem Fall wird der Mittelwert benutzt."
   ]
  },
  {
   "cell_type": "code",
   "execution_count": 395,
   "metadata": {},
   "outputs": [],
   "source": [
    "def prepare_career_stat_for(colum_name):\n",
    "    \n",
    "    def dashTo(value, mean):\n",
    "        return mean if value == \"-\" else value\n",
    "    \n",
    "    mean = df[colum_name].apply(dashTo, args=[0]).astype(float).mean()\n",
    "    df[colum_name] = df[colum_name].apply(dashTo, args=[mean])\n",
    "    \n",
    "    df[colum_name] = df[colum_name].astype(float)\n",
    "    \n",
    "    df[colum_name] = df[colum_name].fillna(mean)   "
   ]
  },
  {
   "cell_type": "markdown",
   "metadata": {},
   "source": [
    "### Career FG%"
   ]
  },
  {
   "cell_type": "code",
   "execution_count": 396,
   "metadata": {},
   "outputs": [],
   "source": [
    "column = 'career_FG%'"
   ]
  },
  {
   "cell_type": "code",
   "execution_count": 397,
   "metadata": {},
   "outputs": [],
   "source": [
    "prepare_career_stat_for(column);"
   ]
  },
  {
   "cell_type": "code",
   "execution_count": 398,
   "metadata": {},
   "outputs": [
    {
     "data": {
      "text/plain": [
       "3308     43.2\n",
       "10791    49.9\n",
       "6633     41.6\n",
       "5402     49.0\n",
       "3178     50.7\n",
       "5422     44.1\n",
       "11552    46.2\n",
       "Name: career_FG%, dtype: float64"
      ]
     },
     "execution_count": 398,
     "metadata": {},
     "output_type": "execute_result"
    }
   ],
   "source": [
    "df[column].sample(7)"
   ]
  },
  {
   "cell_type": "markdown",
   "metadata": {},
   "source": [
    "### Career FG3%"
   ]
  },
  {
   "cell_type": "code",
   "execution_count": 399,
   "metadata": {},
   "outputs": [],
   "source": [
    "column = 'career_FG3%'"
   ]
  },
  {
   "cell_type": "code",
   "execution_count": 400,
   "metadata": {},
   "outputs": [],
   "source": [
    "prepare_career_stat_for(column);"
   ]
  },
  {
   "cell_type": "code",
   "execution_count": 401,
   "metadata": {},
   "outputs": [
    {
     "data": {
      "text/plain": [
       "2761    34.0\n",
       "5040    33.2\n",
       "836     40.5\n",
       "3780    40.3\n",
       "1166    37.6\n",
       "906     38.4\n",
       "8957    24.7\n",
       "Name: career_FG3%, dtype: float64"
      ]
     },
     "execution_count": 401,
     "metadata": {},
     "output_type": "execute_result"
    }
   ],
   "source": [
    "df[column].sample(7)"
   ]
  },
  {
   "cell_type": "markdown",
   "metadata": {},
   "source": [
    "### Career FT%"
   ]
  },
  {
   "cell_type": "code",
   "execution_count": 402,
   "metadata": {},
   "outputs": [],
   "source": [
    "column = 'career_FT%'"
   ]
  },
  {
   "cell_type": "code",
   "execution_count": 403,
   "metadata": {},
   "outputs": [],
   "source": [
    "prepare_career_stat_for(column);"
   ]
  },
  {
   "cell_type": "code",
   "execution_count": 404,
   "metadata": {},
   "outputs": [
    {
     "data": {
      "text/plain": [
       "6265     76.9\n",
       "10700    71.8\n",
       "4904     73.4\n",
       "6448     90.2\n",
       "6138     70.6\n",
       "3703     68.9\n",
       "3986     73.9\n",
       "Name: career_FT%, dtype: float64"
      ]
     },
     "execution_count": 404,
     "metadata": {},
     "output_type": "execute_result"
    }
   ],
   "source": [
    "df[column].sample(7)"
   ]
  },
  {
   "cell_type": "markdown",
   "metadata": {},
   "source": [
    "### Career PER"
   ]
  },
  {
   "cell_type": "code",
   "execution_count": 405,
   "metadata": {},
   "outputs": [],
   "source": [
    "column = 'career_PER'"
   ]
  },
  {
   "cell_type": "code",
   "execution_count": 406,
   "metadata": {},
   "outputs": [],
   "source": [
    "prepare_career_stat_for(column);"
   ]
  },
  {
   "cell_type": "code",
   "execution_count": 407,
   "metadata": {},
   "outputs": [
    {
     "data": {
      "text/plain": [
       "12116    18.0\n",
       "13021    13.7\n",
       "11965     9.9\n",
       "9899     18.9\n",
       "6663     15.3\n",
       "4664     12.8\n",
       "8491     13.3\n",
       "Name: career_PER, dtype: float64"
      ]
     },
     "execution_count": 407,
     "metadata": {},
     "output_type": "execute_result"
    }
   ],
   "source": [
    "df[column].sample(7)"
   ]
  },
  {
   "cell_type": "markdown",
   "metadata": {},
   "source": [
    "### Career TRB"
   ]
  },
  {
   "cell_type": "code",
   "execution_count": 408,
   "metadata": {},
   "outputs": [],
   "source": [
    "column = 'career_TRB'"
   ]
  },
  {
   "cell_type": "code",
   "execution_count": 409,
   "metadata": {},
   "outputs": [],
   "source": [
    "prepare_career_stat_for(column);"
   ]
  },
  {
   "cell_type": "code",
   "execution_count": 410,
   "metadata": {},
   "outputs": [
    {
     "data": {
      "text/plain": [
       "14119    2.0\n",
       "3305     0.6\n",
       "12101    2.7\n",
       "2334     5.3\n",
       "5399     6.7\n",
       "12720    6.7\n",
       "101      0.6\n",
       "Name: career_TRB, dtype: float64"
      ]
     },
     "execution_count": 410,
     "metadata": {},
     "output_type": "execute_result"
    }
   ],
   "source": [
    "df[column].sample(7)"
   ]
  },
  {
   "cell_type": "markdown",
   "metadata": {},
   "source": [
    "### Career WS"
   ]
  },
  {
   "cell_type": "code",
   "execution_count": 411,
   "metadata": {},
   "outputs": [],
   "source": [
    "column = 'career_WS'"
   ]
  },
  {
   "cell_type": "code",
   "execution_count": 412,
   "metadata": {},
   "outputs": [],
   "source": [
    "prepare_career_stat_for(column);"
   ]
  },
  {
   "cell_type": "code",
   "execution_count": 413,
   "metadata": {},
   "outputs": [
    {
     "data": {
      "text/plain": [
       "5753     39.1\n",
       "4787      0.4\n",
       "9888    145.5\n",
       "2366    103.5\n",
       "7903    179.1\n",
       "6831      8.4\n",
       "4462     79.5\n",
       "Name: career_WS, dtype: float64"
      ]
     },
     "execution_count": 413,
     "metadata": {},
     "output_type": "execute_result"
    }
   ],
   "source": [
    "df[column].sample(7)"
   ]
  },
  {
   "cell_type": "markdown",
   "metadata": {},
   "source": [
    "### Career eFG%"
   ]
  },
  {
   "cell_type": "code",
   "execution_count": 414,
   "metadata": {},
   "outputs": [],
   "source": [
    "column = 'career_eFG%'"
   ]
  },
  {
   "cell_type": "code",
   "execution_count": 415,
   "metadata": {},
   "outputs": [],
   "source": [
    "prepare_career_stat_for(column);"
   ]
  },
  {
   "cell_type": "code",
   "execution_count": 416,
   "metadata": {},
   "outputs": [
    {
     "data": {
      "text/plain": [
       "2713     46.2\n",
       "3840     46.0\n",
       "11424    45.3\n",
       "10995    45.9\n",
       "10924    52.9\n",
       "2372     48.1\n",
       "8386     44.7\n",
       "Name: career_eFG%, dtype: float64"
      ]
     },
     "execution_count": 416,
     "metadata": {},
     "output_type": "execute_result"
    }
   ],
   "source": [
    "df[column].sample(7)"
   ]
  },
  {
   "cell_type": "markdown",
   "metadata": {},
   "source": [
    "## Team"
   ]
  },
  {
   "cell_type": "code",
   "execution_count": 417,
   "metadata": {},
   "outputs": [
    {
     "data": {
      "text/plain": [
       "count                14159\n",
       "unique                  38\n",
       "top       Dallas Mavericks\n",
       "freq                   519\n",
       "Name: team, dtype: object"
      ]
     },
     "execution_count": 417,
     "metadata": {},
     "output_type": "execute_result"
    }
   ],
   "source": [
    "df['team'].describe()"
   ]
  },
  {
   "cell_type": "code",
   "execution_count": 418,
   "metadata": {},
   "outputs": [],
   "source": [
    "df = pd.get_dummies(df, columns=['team'])"
   ]
  },
  {
   "cell_type": "markdown",
   "metadata": {},
   "source": [
    "## Height\n",
    "\n",
    "Die Größe soll in eine numerische Repräsentation umgewandelt werden. Im originalen Datensatz handelt es sich um eine Foot-Inch Darstellung. Daher wird die Größe auf Inches umgerechnet."
   ]
  },
  {
   "cell_type": "code",
   "execution_count": 419,
   "metadata": {},
   "outputs": [],
   "source": [
    "def heightToInches(height):\n",
    "    foot_and_inches = height.split('-')\n",
    "    foot_in_inches = int(foot_and_inches[0]) * 12\n",
    "    inches = int(foot_and_inches[1])\n",
    "    \n",
    "    return foot_in_inches + inches"
   ]
  },
  {
   "cell_type": "code",
   "execution_count": 420,
   "metadata": {},
   "outputs": [
    {
     "data": {
      "text/plain": [
       "count     14163\n",
       "unique       27\n",
       "top         6-9\n",
       "freq       1832\n",
       "Name: height, dtype: object"
      ]
     },
     "execution_count": 420,
     "metadata": {},
     "output_type": "execute_result"
    }
   ],
   "source": [
    "df['height'].describe()"
   ]
  },
  {
   "cell_type": "code",
   "execution_count": 421,
   "metadata": {},
   "outputs": [],
   "source": [
    "df['height'] = df['height'].apply(heightToInches)"
   ]
  },
  {
   "cell_type": "code",
   "execution_count": 422,
   "metadata": {},
   "outputs": [],
   "source": [
    "df.rename(columns={\"height\": \"height_in_inches\"}, inplace=True)"
   ]
  },
  {
   "cell_type": "code",
   "execution_count": 423,
   "metadata": {},
   "outputs": [
    {
     "data": {
      "text/plain": [
       "13086    79\n",
       "11448    78\n",
       "13512    78\n",
       "12519    77\n",
       "8684     79\n",
       "1887     73\n",
       "13170    76\n",
       "Name: height_in_inches, dtype: int64"
      ]
     },
     "execution_count": 423,
     "metadata": {},
     "output_type": "execute_result"
    }
   ],
   "source": [
    "df['height_in_inches'].sample(7)"
   ]
  },
  {
   "cell_type": "markdown",
   "metadata": {},
   "source": [
    "## Shoots"
   ]
  },
  {
   "cell_type": "code",
   "execution_count": 424,
   "metadata": {},
   "outputs": [
    {
     "data": {
      "text/plain": [
       "count     14163\n",
       "unique        3\n",
       "top       Right\n",
       "freq      12978\n",
       "Name: shoots, dtype: object"
      ]
     },
     "execution_count": 424,
     "metadata": {},
     "output_type": "execute_result"
    }
   ],
   "source": [
    "df['shoots'].describe()"
   ]
  },
  {
   "cell_type": "code",
   "execution_count": 425,
   "metadata": {},
   "outputs": [],
   "source": [
    "df = pd.get_dummies(df, columns=['shoots'])"
   ]
  },
  {
   "cell_type": "markdown",
   "metadata": {},
   "source": [
    "## Draft Data\n",
    "\n",
    "Laut dem _Pandas Profiling Report_ weißen die folgenden Features Probleme mit _missing_data_ auf: __draft_pick__, __draft_round__, __draft_team__, __draft_year__. Es kann jedoch angenommen werden, dass es sich bei diesen Spielern um _undrafted players_ handelt."
   ]
  },
  {
   "cell_type": "code",
   "execution_count": 426,
   "metadata": {},
   "outputs": [],
   "source": [
    "draft_pick = df['draft_pick'].isna()\n",
    "draft_round = df['draft_round'].isna()\n",
    "draft_team = df['draft_team'].isna()\n",
    "draft_year = df['draft_year'].isna()"
   ]
  },
  {
   "cell_type": "code",
   "execution_count": 427,
   "metadata": {},
   "outputs": [
    {
     "data": {
      "text/plain": [
       "True"
      ]
     },
     "execution_count": 427,
     "metadata": {},
     "output_type": "execute_result"
    }
   ],
   "source": [
    "draft_pick.equals(draft_round) "
   ]
  },
  {
   "cell_type": "code",
   "execution_count": 428,
   "metadata": {},
   "outputs": [
    {
     "data": {
      "text/plain": [
       "True"
      ]
     },
     "execution_count": 428,
     "metadata": {},
     "output_type": "execute_result"
    }
   ],
   "source": [
    "draft_pick.equals(draft_team) "
   ]
  },
  {
   "cell_type": "code",
   "execution_count": 429,
   "metadata": {},
   "outputs": [
    {
     "data": {
      "text/plain": [
       "True"
      ]
     },
     "execution_count": 429,
     "metadata": {},
     "output_type": "execute_result"
    }
   ],
   "source": [
    "draft_pick.equals(draft_year) "
   ]
  },
  {
   "cell_type": "markdown",
   "metadata": {},
   "source": [
    "Wie soeben gezeigt weißen alle Spalten die selben fehlenden Datenpunkte auf. Anschließend werden die genannten Features in ein neues transformiert: __drafted_player__."
   ]
  },
  {
   "cell_type": "code",
   "execution_count": 430,
   "metadata": {},
   "outputs": [],
   "source": [
    "df['drafted_player'] = draft_pick"
   ]
  },
  {
   "cell_type": "code",
   "execution_count": 431,
   "metadata": {},
   "outputs": [],
   "source": [
    "df = pd.get_dummies(df, columns=['drafted_player'])"
   ]
  },
  {
   "cell_type": "markdown",
   "metadata": {},
   "source": [
    "Die originalen Features werden nicht benötigt und können vom Datensatz entfernt werden."
   ]
  },
  {
   "cell_type": "code",
   "execution_count": 432,
   "metadata": {},
   "outputs": [],
   "source": [
    "df.drop(columns=['draft_pick', 'draft_round', 'draft_team', 'draft_year'], inplace=True)"
   ]
  },
  {
   "cell_type": "markdown",
   "metadata": {},
   "source": [
    "## Check"
   ]
  },
  {
   "cell_type": "code",
   "execution_count": 433,
   "metadata": {},
   "outputs": [
    {
     "data": {
      "text/plain": [
       "Index(['career_AST', 'career_FG%', 'career_FG3%', 'career_FT%', 'career_G',\n",
       "       'career_PER', 'career_PTS', 'career_TRB', 'career_WS', 'career_eFG%',\n",
       "       ...\n",
       "       'team_Toronto Raptors', 'team_Utah Jazz', 'team_Vancouver Grizzlies',\n",
       "       'team_Washington Bullets', 'team_Washington Wizards', 'shoots_Left',\n",
       "       'shoots_Left Right', 'shoots_Right', 'drafted_player_False',\n",
       "       'drafted_player_True'],\n",
       "      dtype='object', length=150)"
      ]
     },
     "execution_count": 433,
     "metadata": {},
     "output_type": "execute_result"
    }
   ],
   "source": [
    "df.columns"
   ]
  },
  {
   "cell_type": "markdown",
   "metadata": {},
   "source": [
    "### Correct Types"
   ]
  },
  {
   "cell_type": "code",
   "execution_count": 434,
   "metadata": {},
   "outputs": [
    {
     "data": {
      "text/plain": [
       "array([], dtype=object)"
      ]
     },
     "execution_count": 434,
     "metadata": {},
     "output_type": "execute_result"
    }
   ],
   "source": [
    "df.select_dtypes(exclude=['uint8', 'int64', 'float64']).columns.values"
   ]
  },
  {
   "cell_type": "markdown",
   "metadata": {},
   "source": [
    "### Missing Data"
   ]
  },
  {
   "cell_type": "code",
   "execution_count": 435,
   "metadata": {},
   "outputs": [
    {
     "data": {
      "text/html": [
       "<div>\n",
       "<style scoped>\n",
       "    .dataframe tbody tr th:only-of-type {\n",
       "        vertical-align: middle;\n",
       "    }\n",
       "\n",
       "    .dataframe tbody tr th {\n",
       "        vertical-align: top;\n",
       "    }\n",
       "\n",
       "    .dataframe thead th {\n",
       "        text-align: right;\n",
       "    }\n",
       "</style>\n",
       "<table border=\"1\" class=\"dataframe\">\n",
       "  <thead>\n",
       "    <tr style=\"text-align: right;\">\n",
       "      <th></th>\n",
       "      <th>Total</th>\n",
       "      <th>%</th>\n",
       "    </tr>\n",
       "  </thead>\n",
       "  <tbody>\n",
       "    <tr>\n",
       "      <th>drafted_player_True</th>\n",
       "      <td>0</td>\n",
       "      <td>0.0</td>\n",
       "    </tr>\n",
       "    <tr>\n",
       "      <th>birth_country_ Lebanon</th>\n",
       "      <td>0</td>\n",
       "      <td>0.0</td>\n",
       "    </tr>\n",
       "    <tr>\n",
       "      <th>birth_country_ Japan</th>\n",
       "      <td>0</td>\n",
       "      <td>0.0</td>\n",
       "    </tr>\n",
       "    <tr>\n",
       "      <th>birth_country_ Jamaica</th>\n",
       "      <td>0</td>\n",
       "      <td>0.0</td>\n",
       "    </tr>\n",
       "    <tr>\n",
       "      <th>birth_country_ Italy</th>\n",
       "      <td>0</td>\n",
       "      <td>0.0</td>\n",
       "    </tr>\n",
       "    <tr>\n",
       "      <th>...</th>\n",
       "      <td>...</td>\n",
       "      <td>...</td>\n",
       "    </tr>\n",
       "    <tr>\n",
       "      <th>attended_high_school_False</th>\n",
       "      <td>0</td>\n",
       "      <td>0.0</td>\n",
       "    </tr>\n",
       "    <tr>\n",
       "      <th>attended_college_True</th>\n",
       "      <td>0</td>\n",
       "      <td>0.0</td>\n",
       "    </tr>\n",
       "    <tr>\n",
       "      <th>attended_college_False</th>\n",
       "      <td>0</td>\n",
       "      <td>0.0</td>\n",
       "    </tr>\n",
       "    <tr>\n",
       "      <th>birth_country_USA</th>\n",
       "      <td>0</td>\n",
       "      <td>0.0</td>\n",
       "    </tr>\n",
       "    <tr>\n",
       "      <th>career_AST</th>\n",
       "      <td>0</td>\n",
       "      <td>0.0</td>\n",
       "    </tr>\n",
       "  </tbody>\n",
       "</table>\n",
       "<p>150 rows × 2 columns</p>\n",
       "</div>"
      ],
      "text/plain": [
       "                            Total    %\n",
       "drafted_player_True             0  0.0\n",
       "birth_country_ Lebanon          0  0.0\n",
       "birth_country_ Japan            0  0.0\n",
       "birth_country_ Jamaica          0  0.0\n",
       "birth_country_ Italy            0  0.0\n",
       "...                           ...  ...\n",
       "attended_high_school_False      0  0.0\n",
       "attended_college_True           0  0.0\n",
       "attended_college_False          0  0.0\n",
       "birth_country_USA               0  0.0\n",
       "career_AST                      0  0.0\n",
       "\n",
       "[150 rows x 2 columns]"
      ]
     },
     "execution_count": 435,
     "metadata": {},
     "output_type": "execute_result"
    }
   ],
   "source": [
    "total = df.isnull().sum().sort_values(ascending=False)\n",
    "percent_1 = df.isnull().sum()/df.isnull().count()*100\n",
    "percent_2 = (round(percent_1, 1)).sort_values(ascending=False)\n",
    "missing_data = pd.concat([total, percent_2], axis=1, keys=['Total', '%'])\n",
    "missing_data"
   ]
  },
  {
   "cell_type": "markdown",
   "metadata": {},
   "source": [
    "### Correlations"
   ]
  },
  {
   "cell_type": "code",
   "execution_count": 436,
   "metadata": {},
   "outputs": [
    {
     "data": {
      "text/html": [
       "<div>\n",
       "<style scoped>\n",
       "    .dataframe tbody tr th:only-of-type {\n",
       "        vertical-align: middle;\n",
       "    }\n",
       "\n",
       "    .dataframe tbody tr th {\n",
       "        vertical-align: top;\n",
       "    }\n",
       "\n",
       "    .dataframe thead th {\n",
       "        text-align: right;\n",
       "    }\n",
       "</style>\n",
       "<table border=\"1\" class=\"dataframe\">\n",
       "  <thead>\n",
       "    <tr style=\"text-align: right;\">\n",
       "      <th></th>\n",
       "      <th>salary</th>\n",
       "    </tr>\n",
       "  </thead>\n",
       "  <tbody>\n",
       "    <tr>\n",
       "      <th>salary</th>\n",
       "      <td>1.000000</td>\n",
       "    </tr>\n",
       "    <tr>\n",
       "      <th>career_PTS</th>\n",
       "      <td>0.485203</td>\n",
       "    </tr>\n",
       "    <tr>\n",
       "      <th>career_WS</th>\n",
       "      <td>0.463951</td>\n",
       "    </tr>\n",
       "    <tr>\n",
       "      <th>career_PER</th>\n",
       "      <td>0.428452</td>\n",
       "    </tr>\n",
       "    <tr>\n",
       "      <th>career_TRB</th>\n",
       "      <td>0.399428</td>\n",
       "    </tr>\n",
       "    <tr>\n",
       "      <th>...</th>\n",
       "      <td>...</td>\n",
       "    </tr>\n",
       "    <tr>\n",
       "      <th>birth_country_ Austria</th>\n",
       "      <td>0.001136</td>\n",
       "    </tr>\n",
       "    <tr>\n",
       "      <th>birth_country_ Bosnia and Herzegovina</th>\n",
       "      <td>0.000970</td>\n",
       "    </tr>\n",
       "    <tr>\n",
       "      <th>birth_country_ United Republic of Tanzania</th>\n",
       "      <td>0.000858</td>\n",
       "    </tr>\n",
       "    <tr>\n",
       "      <th>team_San Antonio Spurs</th>\n",
       "      <td>0.000372</td>\n",
       "    </tr>\n",
       "    <tr>\n",
       "      <th>birth_country_ Netherlands</th>\n",
       "      <td>0.000286</td>\n",
       "    </tr>\n",
       "  </tbody>\n",
       "</table>\n",
       "<p>150 rows × 1 columns</p>\n",
       "</div>"
      ],
      "text/plain": [
       "                                              salary\n",
       "salary                                      1.000000\n",
       "career_PTS                                  0.485203\n",
       "career_WS                                   0.463951\n",
       "career_PER                                  0.428452\n",
       "career_TRB                                  0.399428\n",
       "...                                              ...\n",
       "birth_country_ Austria                      0.001136\n",
       "birth_country_ Bosnia and Herzegovina       0.000970\n",
       "birth_country_ United Republic of Tanzania  0.000858\n",
       "team_San Antonio Spurs                      0.000372\n",
       "birth_country_ Netherlands                  0.000286\n",
       "\n",
       "[150 rows x 1 columns]"
      ]
     },
     "execution_count": 436,
     "metadata": {},
     "output_type": "execute_result"
    }
   ],
   "source": [
    "pd.DataFrame(abs(df.corr().salary).sort_values(ascending = False))"
   ]
  },
  {
   "cell_type": "code",
   "execution_count": 437,
   "metadata": {},
   "outputs": [
    {
     "data": {
      "text/plain": [
       "\"\\nheat_map = sb.heatmap(df.corr(), annot=True)\\nplt.title('Correlations to salary')\\nplt.show()\\n\""
      ]
     },
     "execution_count": 437,
     "metadata": {},
     "output_type": "execute_result"
    }
   ],
   "source": [
    "# Lädt zu lange\n",
    "\n",
    "\"\"\"\n",
    "heat_map = sb.heatmap(df.corr(), annot=True)\n",
    "plt.title('Correlations to salary')\n",
    "plt.show()\n",
    "\"\"\""
   ]
  },
  {
   "cell_type": "markdown",
   "metadata": {},
   "source": [
    "# === === === === === === === === ===\n",
    "# === === === === === === === === ==="
   ]
  },
  {
   "cell_type": "markdown",
   "metadata": {},
   "source": [
    "# Train / Test Split"
   ]
  },
  {
   "cell_type": "code",
   "execution_count": 486,
   "metadata": {},
   "outputs": [],
   "source": [
    "X = df.drop(columns = [\"salary\"])\n",
    "y = df[\"salary\"]"
   ]
  },
  {
   "cell_type": "code",
   "execution_count": 487,
   "metadata": {},
   "outputs": [],
   "source": [
    "# X = ((X-X.min())/(X.max()-X.min()))"
   ]
  },
  {
   "cell_type": "code",
   "execution_count": 488,
   "metadata": {},
   "outputs": [],
   "source": [
    "X_train, X_test, y_train, y_test = train_test_split(X, y, test_size=0.9, random_state=36)"
   ]
  },
  {
   "cell_type": "code",
   "execution_count": 489,
   "metadata": {},
   "outputs": [],
   "source": [
    "sc = StandardScaler()\n",
    "X_train_std = sc.fit_transform(X_train)\n",
    "X_test_std = sc.transform(X_test)"
   ]
  },
  {
   "cell_type": "markdown",
   "metadata": {},
   "source": [
    "# === === === === === === === === ===\n",
    "# === === === === === === === === ==="
   ]
  },
  {
   "cell_type": "markdown",
   "metadata": {},
   "source": [
    "# Linear Regression"
   ]
  },
  {
   "cell_type": "code",
   "execution_count": 490,
   "metadata": {},
   "outputs": [],
   "source": [
    "# With StandardScaler\n",
    "X_train_linear = X_train_std\n",
    "X_test_linear = X_test_std\n",
    "\n",
    "# Without StandardScaler\n",
    "# X_train_linear = X_train\n",
    "# X_test_linear = X_test\n",
    "\n",
    "y_train_linear = y_train\n",
    "y_test_linear = y_test"
   ]
  },
  {
   "cell_type": "code",
   "execution_count": 491,
   "metadata": {},
   "outputs": [],
   "source": [
    "model = LinearRegression().fit(X_train_linear, y_train_linear)\n",
    "y_pred = model.predict(X_test_linear)"
   ]
  },
  {
   "cell_type": "code",
   "execution_count": 492,
   "metadata": {},
   "outputs": [
    {
     "name": "stdout",
     "output_type": "stream",
     "text": [
      "2946303.6756290775\n",
      "[ 5.54659171e+05 -8.77135490e+04 -9.19863046e+04  1.84065454e+05\n",
      " -8.58214579e+03  1.45695639e+05  4.71289744e+05  6.47822213e+05\n",
      "  2.42509302e+05 -4.04155372e+04  2.84248018e+05  2.57300123e+05\n",
      " -5.36648939e+18  5.36648939e+18  6.69535084e+05  3.52422186e+18\n",
      "  2.73178452e+18 -9.86782694e+18  2.73178452e+18  2.23128186e+18\n",
      "  3.52422186e+18  3.15327666e+18  7.85378396e+19  2.73178452e+18\n",
      "  5.87831367e+18 -1.84094018e+19 -5.07728710e+17  3.52422186e+18\n",
      "  2.57993987e+19  2.23128186e+18  2.73178452e+18  7.18143912e+18\n",
      "  1.57246846e+19  1.57831234e+18  2.77680640e+19  1.57831234e+18\n",
      "  1.57831234e+18  1.41824176e+18  6.27969775e+18  1.57831234e+18\n",
      "  1.57831234e+18  4.97516389e+18  2.23128186e+18 -5.94101788e+18\n",
      "  2.71631939e+19  3.52422186e+18  1.74285785e+19 -1.20211263e+19\n",
      "  1.57831234e+18  1.57831234e+18  3.52422186e+18  2.23128186e+18\n",
      " -6.66367901e+18  2.23128186e+18 -2.56229316e+19  2.23128186e+18\n",
      "  1.03217110e+19  1.57831234e+18  1.57831234e+18  1.57831234e+18\n",
      " -5.31432090e+18  1.57831234e+18  3.15327666e+18  4.72153306e+18\n",
      "  2.23128186e+18  1.57831234e+18  2.73178452e+18  1.57831234e+18\n",
      "  2.23128186e+18  1.57831234e+18  2.73178452e+18  1.57831234e+18\n",
      "  3.85922335e+18  4.45308569e+18 -2.80398602e+18  3.85922335e+18\n",
      " -3.70538126e+19  2.23128186e+18  4.16695920e+18  1.57831234e+18\n",
      "  2.73178452e+18  3.70462130e+18  1.57831234e+18  7.74190177e+18\n",
      "  3.52422186e+18  2.73178452e+18  1.57831234e+18  2.73178452e+18\n",
      "  1.09391678e+19  3.46740469e+18  1.57831234e+18  1.57831234e+18\n",
      "  1.57831234e+18 -1.98011634e+19  8.01376328e+17  2.07348501e+19\n",
      "  2.74770403e+19  2.74770403e+19  6.78728311e+18  6.78728311e+18\n",
      " -3.14316725e+19 -4.51244614e+19 -2.92591890e+19 -2.45552083e+19\n",
      " -2.58790674e+19 -2.32278637e+19 -1.88825364e+18 -2.06686309e+18\n",
      " -1.10042784e+18 -1.05763359e+18 -1.63417396e+18 -2.06686309e+18\n",
      " -2.17005087e+18 -2.22931513e+18 -2.04550364e+18 -2.04550364e+18\n",
      " -2.22931513e+18 -2.08797226e+18 -2.19001414e+18 -4.33312043e+17\n",
      " -2.08797226e+18 -2.26781808e+18 -1.84053488e+18 -1.93465858e+18\n",
      " -1.95739768e+18 -2.19001414e+18 -1.95739768e+18 -1.29256055e+18\n",
      " -1.01296762e+18 -5.30509011e+17 -2.10883866e+18 -1.29256055e+18\n",
      " -2.04550364e+18 -2.30556296e+18 -2.14987134e+18 -1.97984209e+18\n",
      " -2.00200174e+18 -2.20976703e+18 -1.79139731e+18 -1.81615057e+18\n",
      " -1.88825364e+18 -7.49456168e+17 -1.14156089e+18 -1.54901324e+18\n",
      "  3.54372487e+19  0.00000000e+00  3.54372487e+19 -7.03382820e+18\n",
      " -7.03382820e+18]\n"
     ]
    }
   ],
   "source": [
    "# print the coefficients\n",
    "print(model.intercept_)\n",
    "print(model.coef_)"
   ]
  },
  {
   "cell_type": "code",
   "execution_count": 493,
   "metadata": {},
   "outputs": [
    {
     "data": {
      "text/plain": [
       "[('career_AST', 554659.1710333867),\n",
       " ('career_FG%', -87713.54895670194),\n",
       " ('career_FG3%', -91986.304646006),\n",
       " ('career_FT%', 184065.4543762401),\n",
       " ('career_G', -8582.145792039228),\n",
       " ('career_PER', 145695.6394183312),\n",
       " ('career_PTS', 471289.7438865289),\n",
       " ('career_TRB', 647822.212702029),\n",
       " ('career_WS', 242509.30222182433),\n",
       " ('career_eFG%', -40415.53716407748),\n",
       " ('height_in_inches', 284248.01759322546),\n",
       " ('weight', 257300.12335324762),\n",
       " ('season_end', -5.366489386034823e+18),\n",
       " ('season_start', 5.366489386036405e+18),\n",
       " ('age_in_months', 669535.083548713),\n",
       " ('birth_country_ Argentina', 3.524221860828089e+18),\n",
       " ('birth_country_ Australia', 2.731784522049151e+18),\n",
       " ('birth_country_ Austria', -9.86782694283623e+18),\n",
       " ('birth_country_ Bahamas', 2.731784522049118e+18),\n",
       " ('birth_country_ Belgium', 2.2312818580447542e+18),\n",
       " ('birth_country_ Bosnia and Herzegovina', 3.5242218608280924e+18),\n",
       " ('birth_country_ Brazil', 3.153276656591708e+18),\n",
       " ('birth_country_ Bulgaria', 7.85378395965642e+19),\n",
       " ('birth_country_ Cameroon', 2.731784522049146e+18),\n",
       " ('birth_country_ Canada', 5.878313668201233e+18),\n",
       " ('birth_country_ Cape Verde', -1.8409401750565493e+19),\n",
       " ('birth_country_ China', -5.0772870954221037e+17),\n",
       " ('birth_country_ Croatia', 3.5242218608280817e+18),\n",
       " ('birth_country_ Cuba', 2.579939865918472e+19),\n",
       " ('birth_country_ Czech Republic', 2.231281858044748e+18),\n",
       " ('birth_country_ Democratic Republic of the Congo', 2.731784522049311e+18),\n",
       " ('birth_country_ District of Columbia', 7.181439116583116e+18),\n",
       " ('birth_country_ Dominica', 1.5724684617327608e+19),\n",
       " ('birth_country_ Dominican Republic', 1.578312338671876e+18),\n",
       " ('birth_country_ Egypt', 2.776806395677562e+19),\n",
       " ('birth_country_ Estonia', 1.578312338671999e+18),\n",
       " ('birth_country_ FYR Macedonia', 1.578312338671744e+18),\n",
       " ('birth_country_ Finland', 1.4182417635600095e+18),\n",
       " ('birth_country_ France', 6.279697747686325e+18),\n",
       " ('birth_country_ French Guiana', 1.5783123386718856e+18),\n",
       " ('birth_country_ Gabon', 1.5783123386717076e+18),\n",
       " ('birth_country_ Germany', 4.975163894734977e+18),\n",
       " ('birth_country_ Greece', 2.2312818580446208e+18),\n",
       " ('birth_country_ Guadeloupe', -5.94101788383358e+18),\n",
       " ('birth_country_ Guyana', 2.716319386340713e+19),\n",
       " ('birth_country_ Haiti', 3.524221860828076e+18),\n",
       " ('birth_country_ Iceland', 1.7428578490871603e+19),\n",
       " ('birth_country_ Ireland', -1.2021126271982883e+19),\n",
       " ('birth_country_ Islamic Republic of Iran', 1.5783123386719964e+18),\n",
       " ('birth_country_ Israel', 1.5783123386718802e+18),\n",
       " ('birth_country_ Italy', 3.5242218608283423e+18),\n",
       " ('birth_country_ Jamaica', 2.2312818580446515e+18),\n",
       " ('birth_country_ Japan', -6.663679006944819e+18),\n",
       " ('birth_country_ Latvia', 2.231281858044981e+18),\n",
       " ('birth_country_ Lebanon', -2.562293162672156e+19),\n",
       " ('birth_country_ Lithuania', 2.2312818580446167e+18),\n",
       " ('birth_country_ Luxembourg', 1.0321710952481642e+19),\n",
       " ('birth_country_ Mali', 1.578312338671789e+18),\n",
       " ('birth_country_ Martinique', 1.5783123386719923e+18),\n",
       " ('birth_country_ Mexico', 1.5783123386718313e+18),\n",
       " ('birth_country_ Montenegro', -5.314320897499515e+18),\n",
       " ('birth_country_ Netherlands', 1.578312338671898e+18),\n",
       " ('birth_country_ New Zealand', 3.1532766565918213e+18),\n",
       " ('birth_country_ Nigeria', 4.721533062680373e+18),\n",
       " ('birth_country_ Panama', 2.231281858044668e+18),\n",
       " ('birth_country_ Poland', 1.5783123386718392e+18),\n",
       " ('birth_country_ Puerto Rico', 2.7317845220491274e+18),\n",
       " ('birth_country_ Republic of Korea', 1.578312338671698e+18),\n",
       " ('birth_country_ Republic of the Congo', 2.2312818580447826e+18),\n",
       " ('birth_country_ Romania', 1.5783123386715405e+18),\n",
       " ('birth_country_ Russia', 2.731784522049487e+18),\n",
       " ('birth_country_ Saint Vincent and the Grenadines', 1.578312338671956e+18),\n",
       " ('birth_country_ Senegal', 3.8592233452991263e+18),\n",
       " ('birth_country_ Serbia', 4.4530856939569434e+18),\n",
       " ('birth_country_ Slovakia', -2.803986023617645e+18),\n",
       " ('birth_country_ Slovenia', 3.859223345299333e+18),\n",
       " ('birth_country_ South Africa', -3.705381259065859e+19),\n",
       " ('birth_country_ South Sudan', 2.2312818580448922e+18),\n",
       " ('birth_country_ Spain', 4.1669592014680996e+18),\n",
       " ('birth_country_ Sweden', 1.5783123386719027e+18),\n",
       " ('birth_country_ Switzerland', 2.731784522049479e+18),\n",
       " ('birth_country_ Taiwan', 3.7046213028409395e+18),\n",
       " ('birth_country_ Trinidad and Tobago', 1.578312338672042e+18),\n",
       " ('birth_country_ Tunisia', 7.741901768502305e+18),\n",
       " ('birth_country_ Turkey', 3.5242218608282665e+18),\n",
       " ('birth_country_ U.S. VirgIslands', 2.731784522049147e+18),\n",
       " ('birth_country_ Ukraine', 1.578312338671895e+18),\n",
       " ('birth_country_ United Kingdom', 2.7317845220492733e+18),\n",
       " ('birth_country_ United Republic of Tanzania', 1.0939167842389574e+19),\n",
       " ('birth_country_ Uruguay', 3.467404690380206e+18),\n",
       " ('birth_country_ Venezuela', 1.578312338671743e+18),\n",
       " ('birth_country_Ghana', 1.5783123386720154e+18),\n",
       " ('birth_country_Hungary', 1.5783123386718915e+18),\n",
       " ('birth_country_Jamaica', -1.980116343258588e+19),\n",
       " ('birth_country_Senegal', 8.013763284004687e+17),\n",
       " ('birth_country_USA', 2.073485007134443e+19),\n",
       " ('attended_college_False', 2.7477040253269684e+19),\n",
       " ('attended_college_True', 2.7477040253270577e+19),\n",
       " ('attended_high_school_False', 6.787283108458785e+18),\n",
       " ('attended_high_school_True', 6.787283108458e+18),\n",
       " ('position_Center', -3.1431672452131226e+19),\n",
       " ('position_MULTIPLE_POSITIONS', -4.512446138922547e+19),\n",
       " ('position_Point Guard', -2.9259188968911667e+19),\n",
       " ('position_Power Forward', -2.4555208298843316e+19),\n",
       " ('position_Shooting Guard', -2.587906736587064e+19),\n",
       " ('position_Small Forward', -2.3227863652986085e+19),\n",
       " ('team_Atlanta Hawks', -1.8882536396264568e+18),\n",
       " ('team_Boston Celtics', -2.0668630907808932e+18),\n",
       " ('team_Brooklyn Nets', -1.1004278382794988e+18),\n",
       " ('team_Charlotte Bobcats', -1.0576335860649175e+18),\n",
       " ('team_Charlotte Hornets', -1.634173961641775e+18),\n",
       " ('team_Chicago Bulls', -2.0668630907807928e+18),\n",
       " ('team_Cleveland Cavaliers', -2.1700508659027558e+18),\n",
       " ('team_Dallas Mavericks', -2.2293151334003692e+18),\n",
       " ('team_Denver Nuggets', -2.0455036380513526e+18),\n",
       " ('team_Detroit Pistons', -2.045503638051339e+18),\n",
       " ('team_Golden State Warriors', -2.2293151334003267e+18),\n",
       " ('team_Houston Rockets', -2.087972258636927e+18),\n",
       " ('team_Indiana Pacers', -2.1900141432613274e+18),\n",
       " ('team_Kansas City Kings', -4.3331204289067264e+17),\n",
       " ('team_Los Angeles Clippers', -2.0879722586364856e+18),\n",
       " ('team_Los Angeles Lakers', -2.2678180783630612e+18),\n",
       " ('team_Memphis Grizzlies', -1.8405348790483026e+18),\n",
       " ('team_Miami Heat', -1.934658582373542e+18),\n",
       " ('team_Milwaukee Bucks', -1.957397676208833e+18),\n",
       " ('team_Minnesota Timberwolves', -2.1900141432615107e+18),\n",
       " ('team_New Jersey Nets', -1.9573976762085181e+18),\n",
       " ('team_New Orleans Hornets', -1.2925605450106358e+18),\n",
       " ('team_New Orleans Pelicans', -1.0129676162346394e+18),\n",
       " ('team_New Orleans/Oklahoma City Hornets', -5.305090110954107e+17),\n",
       " ('team_New York Knicks', -2.1088386575780536e+18),\n",
       " ('team_Oklahoma City Thunder', -1.2925605450105958e+18),\n",
       " ('team_Orlando Magic', -2.0455036380513587e+18),\n",
       " ('team_Philadelphia 76ers', -2.3055629606044385e+18),\n",
       " ('team_Phoenix Suns', -2.149871342099625e+18),\n",
       " ('team_Portland Trail Blazers', -1.9798420920260045e+18),\n",
       " ('team_Sacramento Kings', -2.0020017407445985e+18),\n",
       " ('team_San Antonio Spurs', -2.2097670349653545e+18),\n",
       " ('team_Seattle SuperSonics', -1.7913973123354998e+18),\n",
       " ('team_Toronto Raptors', -1.8161505661126666e+18),\n",
       " ('team_Utah Jazz', -1.888253639626626e+18),\n",
       " ('team_Vancouver Grizzlies', -7.494561682980332e+17),\n",
       " ('team_Washington Bullets', -1.1415608902734387e+18),\n",
       " ('team_Washington Wizards', -1.5490132439010883e+18),\n",
       " ('shoots_Left', 3.54372487249583e+19),\n",
       " ('shoots_Left Right', 0.0),\n",
       " ('shoots_Right', 3.543724872495824e+19),\n",
       " ('drafted_player_False', -7.033828198918748e+18),\n",
       " ('drafted_player_True', -7.03382819891892e+18)]"
      ]
     },
     "execution_count": 493,
     "metadata": {},
     "output_type": "execute_result"
    }
   ],
   "source": [
    "# pair the feature names with the coefficients\n",
    "list(zip(X_train.columns, model.coef_))"
   ]
  },
  {
   "cell_type": "code",
   "execution_count": 494,
   "metadata": {},
   "outputs": [
    {
     "name": "stdout",
     "output_type": "stream",
     "text": [
      "coefficient of determination: -3.976693630426185e+24\n"
     ]
    }
   ],
   "source": [
    "print('coefficient of determination: {}'.format(model.score(X_test_linear, y_test_linear)))"
   ]
  },
  {
   "cell_type": "code",
   "execution_count": 495,
   "metadata": {},
   "outputs": [
    {
     "name": "stdout",
     "output_type": "stream",
     "text": [
      "\n",
      "Linear Regression score: -3.929295636098383e+26%\n"
     ]
    }
   ],
   "source": [
    "linear_score = round(explained_variance_score(np.array(y_test_linear), y_pred) * 100, 2)\n",
    "print('\\nLinear Regression score: {}%'.format(linear_score))"
   ]
  },
  {
   "cell_type": "code",
   "execution_count": 496,
   "metadata": {},
   "outputs": [
    {
     "name": "stdout",
     "output_type": "stream",
     "text": [
      "7.110165042149398e+37\n"
     ]
    }
   ],
   "source": [
    "print(mean_squared_error(np.array(y_test_linear), y_pred))"
   ]
  },
  {
   "cell_type": "markdown",
   "metadata": {},
   "source": [
    "# === === === === === === === === ===\n",
    "# === === === === === === === === ==="
   ]
  },
  {
   "cell_type": "markdown",
   "metadata": {},
   "source": [
    "# KNN"
   ]
  },
  {
   "cell_type": "code",
   "execution_count": null,
   "metadata": {},
   "outputs": [],
   "source": [
    "X_train_knn = X_train_std\n",
    "X_test_knn = X_test_std\n",
    "\n",
    "y_train_knn = y_train\n",
    "y_test_knn = y_test"
   ]
  },
  {
   "cell_type": "markdown",
   "metadata": {},
   "source": [
    "https://scikit-learn.org/stable/modules/generated/sklearn.model_selection.GridSearchCV.html"
   ]
  },
  {
   "cell_type": "code",
   "execution_count": 1277,
   "metadata": {},
   "outputs": [],
   "source": [
    "param_grid = {\n",
    "    'n_neighbors': [3, 6, 9, 12, 15, 18, 21],\n",
    "    'metric': ['euclidean', 'manhattan'],\n",
    "    'weights': ['uniform', 'distance'],\n",
    "}"
   ]
  },
  {
   "cell_type": "code",
   "execution_count": 1278,
   "metadata": {},
   "outputs": [],
   "source": [
    "classifier_grid = GridSearchCV(\n",
    "    KNeighborsClassifier(),\n",
    "    param_grid,\n",
    "    verbose = 1,\n",
    "    cv = 3,\n",
    "    n_jobs = -1\n",
    ")"
   ]
  },
  {
   "cell_type": "code",
   "execution_count": null,
   "metadata": {},
   "outputs": [],
   "source": [
    "classifier_grid = classifier_grid.fit(X_train_knn, y_train_knn)"
   ]
  },
  {
   "cell_type": "code",
   "execution_count": null,
   "metadata": {},
   "outputs": [],
   "source": [
    "classifier_grid.best_params_"
   ]
  },
  {
   "cell_type": "code",
   "execution_count": null,
   "metadata": {},
   "outputs": [],
   "source": [
    "classifier_grid.best_score_"
   ]
  },
  {
   "cell_type": "code",
   "execution_count": 1279,
   "metadata": {},
   "outputs": [
    {
     "ename": "AttributeError",
     "evalue": "'GridSearchCV' object has no attribute 'cv_results_'",
     "output_type": "error",
     "traceback": [
      "\u001b[0;31m---------------------------------------------------------------------------\u001b[0m",
      "\u001b[0;31mAttributeError\u001b[0m                            Traceback (most recent call last)",
      "\u001b[0;32m<ipython-input-1279-d64b02ae4158>\u001b[0m in \u001b[0;36m<module>\u001b[0;34m\u001b[0m\n\u001b[0;32m----> 1\u001b[0;31m \u001b[0mpd\u001b[0m\u001b[0;34m.\u001b[0m\u001b[0mDataFrame\u001b[0m\u001b[0;34m(\u001b[0m\u001b[0mclassifier_grid\u001b[0m\u001b[0;34m.\u001b[0m\u001b[0mcv_results_\u001b[0m\u001b[0;34m)\u001b[0m\u001b[0;34m.\u001b[0m\u001b[0msample\u001b[0m\u001b[0;34m(\u001b[0m\u001b[0;36m7\u001b[0m\u001b[0;34m)\u001b[0m\u001b[0;34m\u001b[0m\u001b[0;34m\u001b[0m\u001b[0m\n\u001b[0m",
      "\u001b[0;31mAttributeError\u001b[0m: 'GridSearchCV' object has no attribute 'cv_results_'"
     ]
    }
   ],
   "source": [
    "pd.DataFrame(classifier_grid.cv_results_).sample(7)"
   ]
  },
  {
   "cell_type": "markdown",
   "metadata": {},
   "source": [
    "# === === === === === === === === ===\n",
    "# === === === === === === === === ==="
   ]
  },
  {
   "cell_type": "markdown",
   "metadata": {},
   "source": [
    "# Decision Tree"
   ]
  },
  {
   "cell_type": "code",
   "execution_count": null,
   "metadata": {},
   "outputs": [],
   "source": [
    "X_train_dt = X_train_std\n",
    "X_test_dt = X_test_std\n",
    "\n",
    "y_train_dt = y_train\n",
    "y_test_dt = y_test"
   ]
  },
  {
   "cell_type": "code",
   "execution_count": null,
   "metadata": {},
   "outputs": [],
   "source": [
    "max_depth = range(1,30)\n",
    "criterion=[\"entropy\", \"gini\"]\n",
    "\n",
    "grid_params = {\n",
    "    'max_depth': max_depth,  \n",
    "    'criterion': criterion\n",
    "}\n",
    "\n",
    "grid_classifier = GridSearchCV(\n",
    "    DecisionTreeClassifier(), \n",
    "    param_grid=grid_params,\n",
    "    verbose=False, \n",
    "    cv=StratifiedKFold(n_splits=20, random_state=15, shuffle=True),\n",
    "    n_jobs = -1\n",
    ")\n",
    "\n",
    "grid_classifier.fit(X_train_dt, y_train_dt) "
   ]
  },
  {
   "cell_type": "code",
   "execution_count": null,
   "metadata": {},
   "outputs": [],
   "source": [
    "## Getting the best of everything. \n",
    "print(grid.best_params_)\n",
    "print(grid.best_score_)\n",
    "print(grid.best_estimator_)"
   ]
  },
  {
   "cell_type": "code",
   "execution_count": null,
   "metadata": {},
   "outputs": [],
   "source": [
    "column_names = X_train.columns\n",
    "\n",
    "dot_data = StringIO()  \n",
    "\n",
    "export_graphviz(dectree_grid, out_file=dot_data,  \n",
    "                feature_names=X_train_dt.columns\n",
    "                filled=True, rounded=True,\n",
    "                proportion=True,\n",
    "                special_characters=True)  \n",
    "(graph,) = pydot.graph_from_dot_data(dot_data.getvalue())"
   ]
  },
  {
   "cell_type": "code",
   "execution_count": null,
   "metadata": {},
   "outputs": [],
   "source": [
    "Image(graph.create_png())"
   ]
  },
  {
   "cell_type": "code",
   "execution_count": null,
   "metadata": {},
   "outputs": [],
   "source": []
  },
  {
   "cell_type": "code",
   "execution_count": null,
   "metadata": {},
   "outputs": [],
   "source": []
  },
  {
   "cell_type": "markdown",
   "metadata": {},
   "source": [
    "# === === === === === === === === ===\n",
    "# === === === === === === === === ==="
   ]
  },
  {
   "cell_type": "markdown",
   "metadata": {},
   "source": [
    "# Neural Network"
   ]
  },
  {
   "cell_type": "code",
   "execution_count": null,
   "metadata": {},
   "outputs": [],
   "source": [
    "X_train_nn = X_train_std\n",
    "X_test_nn = X_test_std\n",
    "\n",
    "y_train_nn = y_train\n",
    "y_test_nn = y_test"
   ]
  },
  {
   "cell_type": "code",
   "execution_count": 1254,
   "metadata": {},
   "outputs": [],
   "source": [
    "parameter_space = {\n",
    "    'hidden_layer_sizes': [\n",
    "        (1), (1,1,1),\n",
    "        (8), (8,8), \n",
    "        (16)\n",
    "    ],\n",
    "    'activation': ['tanh', 'relu', 'logistic', 'identity'],\n",
    "}"
   ]
  },
  {
   "cell_type": "code",
   "execution_count": 1255,
   "metadata": {},
   "outputs": [
    {
     "data": {
      "text/plain": [
       "GridSearchCV(cv=3, error_score=nan,\n",
       "             estimator=MLPClassifier(activation='relu', alpha=0.0001,\n",
       "                                     batch_size='auto', beta_1=0.9,\n",
       "                                     beta_2=0.999, early_stopping=False,\n",
       "                                     epsilon=1e-08, hidden_layer_sizes=(100,),\n",
       "                                     learning_rate='constant',\n",
       "                                     learning_rate_init=0.001, max_fun=15000,\n",
       "                                     max_iter=200, momentum=0.9,\n",
       "                                     n_iter_no_change=10,\n",
       "                                     nesterovs_momentum=True, power_t=0.5,\n",
       "                                     random_state=None, shuffle=True,\n",
       "                                     solver='adam', tol=0.0001,\n",
       "                                     validation_fraction=0.1, verbose=False,\n",
       "                                     warm_start=False),\n",
       "             iid='deprecated', n_jobs=None,\n",
       "             param_grid={'activation': ['tanh', 'relu', 'logistic', 'identity'],\n",
       "                         'hidden_layer_sizes': [1, (1, 1, 1), 8, (8, 8), 16]},\n",
       "             pre_dispatch='2*n_jobs', refit=True, return_train_score=False,\n",
       "             scoring='accuracy', verbose=0)"
      ]
     },
     "execution_count": 1255,
     "metadata": {},
     "output_type": "execute_result"
    }
   ],
   "source": [
    "mlp = MLPClassifier(max_iter=200)\n",
    "clf = GridSearchCV(mlp, parameter_space, cv=3, scoring='accuracy')\n",
    "clf.fit(X_train_nn, y_train_nn)"
   ]
  },
  {
   "cell_type": "code",
   "execution_count": null,
   "metadata": {},
   "outputs": [],
   "source": [
    "print('Best parameters found:\\n', clf.best_params_)"
   ]
  },
  {
   "cell_type": "code",
   "execution_count": null,
   "metadata": {},
   "outputs": [],
   "source": [
    "predictions = clf.predict(x_test_nn)\n",
    "predictions"
   ]
  },
  {
   "cell_type": "code",
   "execution_count": null,
   "metadata": {},
   "outputs": [],
   "source": [
    "print(confusion_matrix(y_test_nn, predictions))\n",
    "print(classification_report(y_test_nn, predictions))"
   ]
  },
  {
   "cell_type": "markdown",
   "metadata": {},
   "source": [
    "# === === === === === === === === ===\n",
    "# === === === === === === === === ==="
   ]
  },
  {
   "cell_type": "markdown",
   "metadata": {},
   "source": [
    "# PCA - Visualization"
   ]
  },
  {
   "cell_type": "code",
   "execution_count": 1242,
   "metadata": {},
   "outputs": [
    {
     "name": "stdout",
     "output_type": "stream",
     "text": [
      "(14163, 2378)\n",
      "(14163, 2)\n"
     ]
    }
   ],
   "source": [
    "pca = PCA(n_components=2)\n",
    "pca.fit(X)\n",
    "x_pca = pca.transform(X)\n",
    "\n",
    "print(X.shape)\n",
    "print(x_pca.shape)"
   ]
  },
  {
   "cell_type": "code",
   "execution_count": 1243,
   "metadata": {},
   "outputs": [
    {
     "data": {
      "text/plain": [
       "<matplotlib.colorbar.Colorbar at 0x134b3b400>"
      ]
     },
     "execution_count": 1243,
     "metadata": {},
     "output_type": "execute_result"
    },
    {
     "data": {
      "image/png": "[encoded data removed]",
      "text/plain": [
       "<Figure size 576x396 with 2 Axes>"
      ]
     },
     "metadata": {},
     "output_type": "display_data"
    }
   ],
   "source": [
    "plt.scatter(x_pca[:, 0], x_pca[:, 1], c=y[:], edgecolor='none', alpha=0.5, cmap=plt.cm.get_cmap('rainbow', 10))\n",
    "plt.xlabel('First principal component')\n",
    "plt.ylabel('Second Principal Component')\n",
    "plt.colorbar()"
   ]
  },
  {
   "cell_type": "markdown",
   "metadata": {},
   "source": [
    "# === === === === === === === === ===\n",
    "# === === === === === === === === ==="
   ]
  },
  {
   "cell_type": "markdown",
   "metadata": {},
   "source": [
    "# T-SNE"
   ]
  },
  {
   "cell_type": "code",
   "execution_count": 497,
   "metadata": {},
   "outputs": [],
   "source": [
    "def do_tsne(n_iter, perplexity = 25):\n",
    "    time_start = time.time()\n",
    "    tsne = TSNE(n_components=2, verbose=1, perplexity=perplexity, n_iter=n_iter)\n",
    "    tsne_results = tsne.fit_transform(X)\n",
    "    print('t-SNE done! Time elapsed: {} minutes'.format((time.time()-time_start) / 60))\n",
    "    \n",
    "    sb.scatterplot(tsne_results[:,0], tsne_results[:,1], legend='full', palette=palette)"
   ]
  },
  {
   "cell_type": "code",
   "execution_count": 499,
   "metadata": {},
   "outputs": [
    {
     "name": "stdout",
     "output_type": "stream",
     "text": [
      "[t-SNE] Computing 76 nearest neighbors...\n",
      "[t-SNE] Indexed 14163 samples in 0.110s...\n",
      "[t-SNE] Computed neighbors for 14163 samples in 3.184s...\n",
      "[t-SNE] Computed conditional probabilities for sample 1000 / 14163\n",
      "[t-SNE] Computed conditional probabilities for sample 2000 / 14163\n",
      "[t-SNE] Computed conditional probabilities for sample 3000 / 14163\n",
      "[t-SNE] Computed conditional probabilities for sample 4000 / 14163\n",
      "[t-SNE] Computed conditional probabilities for sample 5000 / 14163\n",
      "[t-SNE] Computed conditional probabilities for sample 6000 / 14163\n",
      "[t-SNE] Computed conditional probabilities for sample 7000 / 14163\n",
      "[t-SNE] Computed conditional probabilities for sample 8000 / 14163\n",
      "[t-SNE] Computed conditional probabilities for sample 9000 / 14163\n",
      "[t-SNE] Computed conditional probabilities for sample 10000 / 14163\n",
      "[t-SNE] Computed conditional probabilities for sample 11000 / 14163\n",
      "[t-SNE] Computed conditional probabilities for sample 12000 / 14163\n",
      "[t-SNE] Computed conditional probabilities for sample 13000 / 14163\n",
      "[t-SNE] Computed conditional probabilities for sample 14000 / 14163\n",
      "[t-SNE] Computed conditional probabilities for sample 14163 / 14163\n",
      "[t-SNE] Mean sigma: 15.718069\n",
      "[t-SNE] KL divergence after 250 iterations with early exaggeration: 79.873657\n",
      "[t-SNE] KL divergence after 251 iterations: 179769313486231570814527423731704356798070567525844996598917476803157260780028538760589558632766878171540458953514382464234321326889464182768467546703537516986049910576551282076245490090389328944075868508455133942304583236903222948165808559332123348274797826204144723168738177180919299881250404026184124858368.000000\n",
      "t-SNE done! Time elapsed: 0.3092788855234782 minutes\n"
     ]
    },
    {
     "ename": "NameError",
     "evalue": "name 'sns' is not defined",
     "output_type": "error",
     "traceback": [
      "\u001b[0;31m---------------------------------------------------------------------------\u001b[0m",
      "\u001b[0;31mNameError\u001b[0m                                 Traceback (most recent call last)",
      "\u001b[0;32m<ipython-input-499-28ce60e42a20>\u001b[0m in \u001b[0;36m<module>\u001b[0;34m\u001b[0m\n\u001b[0;32m----> 1\u001b[0;31m \u001b[0mdo_tsne\u001b[0m\u001b[0;34m(\u001b[0m\u001b[0;36m250\u001b[0m\u001b[0;34m)\u001b[0m\u001b[0;34m\u001b[0m\u001b[0;34m\u001b[0m\u001b[0m\n\u001b[0m",
      "\u001b[0;32m<ipython-input-497-0e099c208ab3>\u001b[0m in \u001b[0;36mdo_tsne\u001b[0;34m(n_iter, perplexity)\u001b[0m\n\u001b[1;32m      5\u001b[0m     \u001b[0mprint\u001b[0m\u001b[0;34m(\u001b[0m\u001b[0;34m't-SNE done! Time elapsed: {} minutes'\u001b[0m\u001b[0;34m.\u001b[0m\u001b[0mformat\u001b[0m\u001b[0;34m(\u001b[0m\u001b[0;34m(\u001b[0m\u001b[0mtime\u001b[0m\u001b[0;34m.\u001b[0m\u001b[0mtime\u001b[0m\u001b[0;34m(\u001b[0m\u001b[0;34m)\u001b[0m\u001b[0;34m-\u001b[0m\u001b[0mtime_start\u001b[0m\u001b[0;34m)\u001b[0m \u001b[0;34m/\u001b[0m \u001b[0;36m60\u001b[0m\u001b[0;34m)\u001b[0m\u001b[0;34m)\u001b[0m\u001b[0;34m\u001b[0m\u001b[0;34m\u001b[0m\u001b[0m\n\u001b[1;32m      6\u001b[0m \u001b[0;34m\u001b[0m\u001b[0m\n\u001b[0;32m----> 7\u001b[0;31m     \u001b[0msns\u001b[0m\u001b[0;34m.\u001b[0m\u001b[0mscatterplot\u001b[0m\u001b[0;34m(\u001b[0m\u001b[0mtsne_results\u001b[0m\u001b[0;34m[\u001b[0m\u001b[0;34m:\u001b[0m\u001b[0;34m,\u001b[0m\u001b[0;36m0\u001b[0m\u001b[0;34m]\u001b[0m\u001b[0;34m,\u001b[0m \u001b[0mtsne_results\u001b[0m\u001b[0;34m[\u001b[0m\u001b[0;34m:\u001b[0m\u001b[0;34m,\u001b[0m\u001b[0;36m1\u001b[0m\u001b[0;34m]\u001b[0m\u001b[0;34m,\u001b[0m \u001b[0mlegend\u001b[0m\u001b[0;34m=\u001b[0m\u001b[0;34m'full'\u001b[0m\u001b[0;34m,\u001b[0m \u001b[0mpalette\u001b[0m\u001b[0;34m=\u001b[0m\u001b[0mpalette\u001b[0m\u001b[0;34m)\u001b[0m\u001b[0;34m\u001b[0m\u001b[0;34m\u001b[0m\u001b[0m\n\u001b[0m",
      "\u001b[0;31mNameError\u001b[0m: name 'sns' is not defined"
     ]
    }
   ],
   "source": [
    "do_tsne(250)"
   ]
  },
  {
   "cell_type": "markdown",
   "metadata": {},
   "source": [
    "# === === === === === === === === ===\n",
    "# === === === === === === === === ==="
   ]
  },
  {
   "cell_type": "markdown",
   "metadata": {},
   "source": [
    "# KMeans"
   ]
  },
  {
   "cell_type": "code",
   "execution_count": null,
   "metadata": {},
   "outputs": [],
   "source": [
    "for k in range(1, 20):\n",
    "    kmeans = KMeans(n_clusters=n_clusters, init='k-means++', max_iter=300, n_init=10, random_state=0)\n",
    "    kmeans.fit(X)"
   ]
  },
  {
   "cell_type": "code",
   "execution_count": null,
   "metadata": {},
   "outputs": [],
   "source": []
  },
  {
   "cell_type": "markdown",
   "metadata": {},
   "source": [
    "# === === === === === === === === ===\n",
    "# === === === === === === === === ==="
   ]
  },
  {
   "cell_type": "markdown",
   "metadata": {},
   "source": [
    "# Spectral Clustering"
   ]
  },
  {
   "cell_type": "code",
   "execution_count": null,
   "metadata": {},
   "outputs": [],
   "source": [
    "for k in range(1, 20):\n",
    "    spectral_clustering = SpectralClustering(n_clusters=n_clusters, affinity='nearest_neighbors', random_state=0)\n",
    "    spectral_clustering.fit(X)"
   ]
  },
  {
   "cell_type": "code",
   "execution_count": null,
   "metadata": {},
   "outputs": [],
   "source": []
  },
  {
   "cell_type": "code",
   "execution_count": null,
   "metadata": {},
   "outputs": [],
   "source": []
  },
  {
   "cell_type": "markdown",
   "metadata": {},
   "source": [
    "# === === === === === === === === ===\n",
    "# === === === === === === === === ==="
   ]
  },
  {
   "cell_type": "markdown",
   "metadata": {},
   "source": [
    "# Notes / Problems"
   ]
  },
  {
   "cell_type": "markdown",
   "metadata": {},
   "source": [
    "Schnell viele Features"
   ]
  },
  {
   "cell_type": "code",
   "execution_count": null,
   "metadata": {},
   "outputs": [],
   "source": []
  }
 ],
 "metadata": {
  "kernelspec": {
   "display_name": "Python 3",
   "language": "python",
   "name": "python3"
  },
  "language_info": {
   "codemirror_mode": {
    "name": "ipython",
    "version": 3
   },
   "file_extension": ".py",
   "mimetype": "text/x-python",
   "name": "python",
   "nbconvert_exporter": "python",
   "pygments_lexer": "ipython3",
   "version": "3.7.2"
  }
 },
 "nbformat": 4,
 "nbformat_minor": 4
}
